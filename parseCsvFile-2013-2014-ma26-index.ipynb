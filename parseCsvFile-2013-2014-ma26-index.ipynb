{
 "cells": [
  {
   "cell_type": "code",
   "execution_count": null,
   "metadata": {
    "collapsed": false
   },
   "outputs": [],
   "source": [
    "from __future__ import division\n",
    "from numpy.random import randn\n",
    "from pandas import Series\n",
    "import numpy as np\n",
    "import pandas as pd\n",
    "np.set_printoptions(precision=4)\n",
    "import sys; sys.path.append('book_scripts')\n",
    "%cd book_scripts"
   ]
  },
  {
   "cell_type": "code",
   "execution_count": null,
   "metadata": {
    "collapsed": false
   },
   "outputs": [],
   "source": [
    "%pwd"
   ]
  },
  {
   "cell_type": "code",
   "execution_count": null,
   "metadata": {
    "collapsed": false
   },
   "outputs": [],
   "source": [
    "# input CSV 指数数据文件\n",
    "input_index_data_path = 'E:/project/pychram/traderesp/base/input-csv/'\n",
    "input_index_data_cvs = input_index_data_path + 'input-sh000001-2013-2014-index.csv'"
   ]
  },
  {
   "cell_type": "code",
   "execution_count": null,
   "metadata": {
    "collapsed": false
   },
   "outputs": [],
   "source": [
    "# 注意：这里请填写数据文件在您电脑中的路径，并注意路径中斜杠的方向\n",
    "index_data = pd.read_csv(input_index_data_cvs, parse_dates=['date'])"
   ]
  },
  {
   "cell_type": "code",
   "execution_count": null,
   "metadata": {
    "collapsed": false
   },
   "outputs": [],
   "source": [
    "# 保留这几个需要的字段：'date',  'close'\n",
    "index_data = index_data[['date', 'close']]\n",
    "# 对数据按照【date】交易日期从小到大排序\n",
    "index_data.sort_values('date', inplace=True)"
   ]
  },
  {
   "cell_type": "code",
   "execution_count": null,
   "metadata": {
    "collapsed": true
   },
   "outputs": [],
   "source": [
    "# 只计算 26 日的移动平均线\n",
    "ma_26 = 26"
   ]
  },
  {
   "cell_type": "code",
   "execution_count": null,
   "metadata": {
    "collapsed": true
   },
   "outputs": [],
   "source": [
    "# 计算简单算术移动平均线MA - 注意：index_data['close']为指数每天的收盘点\n",
    "index_data['MA_26'] = pd.rolling_mean(index_data['close'], ma_26)\n",
    "# 判断是否中轨之上\n",
    "# 当当天的【close】> M26 时，将【收盘发出的信号】设定为1\n",
    "buy_index = index_data[index_data['close'] > index_data['MA_26']].index\n",
    "index_data.loc[buy_index, 'close_signal'] = 1\n",
    "# 当当天的【close】< M26 时，将【收盘发出的信号】设定为 0\n",
    "sell_index = index_data[index_data['close'] < index_data['MA_26']].index\n",
    "index_data.loc[sell_index, 'close_signal'] = 0\n",
    "# 计算每天的仓位，当天应该买入时，【当天的买卖信号】为1，当天不应该买入时，【当天的买卖信号】为0\n",
    "index_data['today_signal'] = index_data['close_signal'].shift(1)\n",
    "# 前向 填充空值\n",
    "# index_data['today_signal'].fillna(method='ffill', inplace=True)"
   ]
  },
  {
   "cell_type": "code",
   "execution_count": null,
   "metadata": {
    "collapsed": false
   },
   "outputs": [],
   "source": [
    "# 将数据按照交易日期从远到近排序\n",
    "index_data.sort_values('date', ascending=True, inplace=True)"
   ]
  },
  {
   "cell_type": "code",
   "execution_count": null,
   "metadata": {
    "collapsed": true
   },
   "outputs": [],
   "source": [
    "# ========== 将算好的数据输出到csv文件 - 注意：这里请填写输出文件在您电脑中的路径\n",
    "# output CSV数据文件\n",
    "output_index_data_path = 'E:/project/pychram/traderesp/base/output-csv/'\n",
    "output_index_data_cvs = output_index_data_path + 'output-sh000001-2013-2014-index.csv'\n",
    "index_data.to_csv(output_index_data_cvs,encoding='gbk', index=False)"
   ]
  },
  {
   "cell_type": "code",
   "execution_count": null,
   "metadata": {
    "collapsed": false
   },
   "outputs": [],
   "source": [
    "index_data['today_signal'].count()"
   ]
  },
  {
   "cell_type": "code",
   "execution_count": null,
   "metadata": {
    "collapsed": false
   },
   "outputs": [],
   "source": [
    "index_data[index_data['today_signal'] > 0].count()"
   ]
  },
  {
   "cell_type": "code",
   "execution_count": null,
   "metadata": {
    "collapsed": false
   },
   "outputs": [],
   "source": [
    "index_data[index_data['today_signal'] < 1].count()"
   ]
  },
  {
   "cell_type": "code",
   "execution_count": null,
   "metadata": {
    "collapsed": false
   },
   "outputs": [],
   "source": [
    "#for close,ma,preday,buy in index_data:\n",
    "#    print close,ma,preday,buy"
   ]
  },
  {
   "cell_type": "code",
   "execution_count": null,
   "metadata": {
    "collapsed": false
   },
   "outputs": [],
   "source": [
    "index_data.index"
   ]
  },
  {
   "cell_type": "code",
   "execution_count": null,
   "metadata": {
    "collapsed": false
   },
   "outputs": [],
   "source": [
    "index_data_if_buy = index_data[['date','today_signal']]\n",
    "index_data_if_buy.index.name=\"date\"\n",
    "index_data_if_buy[index_data_if_buy['today_signal'] < 1].count()"
   ]
  },
  {
   "cell_type": "code",
   "execution_count": null,
   "metadata": {
    "collapsed": false
   },
   "outputs": [],
   "source": [
    "index_data.columns"
   ]
  },
  {
   "cell_type": "code",
   "execution_count": null,
   "metadata": {
    "collapsed": false
   },
   "outputs": [],
   "source": [
    "index_data"
   ]
  },
  {
   "cell_type": "code",
   "execution_count": null,
   "metadata": {
    "collapsed": false
   },
   "outputs": [],
   "source": [
    "for idx, row in index_data.iterrows():\n",
    "    if row['today_signal'] > 0 :\n",
    "        print row['date']"
   ]
  },
  {
   "cell_type": "code",
   "execution_count": null,
   "metadata": {
    "collapsed": true
   },
   "outputs": [],
   "source": [
    "def hanlder(x):\n",
    "    print x"
   ]
  },
  {
   "cell_type": "code",
   "execution_count": null,
   "metadata": {
    "collapsed": false
   },
   "outputs": [],
   "source": [
    "index_data['today_signal'].map(hanlder)"
   ]
  },
  {
   "cell_type": "code",
   "execution_count": null,
   "metadata": {
    "collapsed": true
   },
   "outputs": [],
   "source": [
    "def hanlder2(x):\n",
    "    print x['date'],x['today_signal']"
   ]
  },
  {
   "cell_type": "code",
   "execution_count": null,
   "metadata": {
    "collapsed": false
   },
   "outputs": [],
   "source": [
    "index_data.apply(hanlder2,axis=1)"
   ]
  },
  {
   "cell_type": "code",
   "execution_count": null,
   "metadata": {
    "collapsed": true
   },
   "outputs": [],
   "source": []
  }
 ],
 "metadata": {
  "kernelspec": {
   "display_name": "Python 2",
   "language": "python",
   "name": "python2"
  },
  "language_info": {
   "codemirror_mode": {
    "name": "ipython",
    "version": 2
   },
   "file_extension": ".py",
   "mimetype": "text/x-python",
   "name": "python",
   "nbconvert_exporter": "python",
   "pygments_lexer": "ipython2",
   "version": "2.7.8"
  }
 },
 "nbformat": 4,
 "nbformat_minor": 0
}
