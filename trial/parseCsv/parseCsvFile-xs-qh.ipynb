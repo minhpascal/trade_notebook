{
 "cells": [
  {
   "cell_type": "code",
   "execution_count": null,
   "metadata": {
    "collapsed": false
   },
   "outputs": [],
   "source": [
    "from __future__ import division\n",
    "from numpy.random import randn\n",
    "from pandas import Series\n",
    "import numpy as np\n",
    "import pandas as pd\n",
    "np.set_printoptions(precision=4)\n",
    "import sys; \n",
    "#sys.path.append('book_scripts')\n",
    "#%cd book_scripts\n",
    "#%pwd"
   ]
  },
  {
   "cell_type": "code",
   "execution_count": null,
   "metadata": {
    "collapsed": false
   },
   "outputs": [],
   "source": [
    "# input CSV 指数数据文件\n",
    "stock_data_path = 'E:/Download/QQ/28814405/FileRecv/'\n",
    "stock_data_cvs = stock_data_path + 'trader_report_2.csv'"
   ]
  },
  {
   "cell_type": "code",
   "execution_count": null,
   "metadata": {
    "collapsed": false
   },
   "outputs": [],
   "source": [
    "# 注意：这里请填写数据文件在您电脑中的路径，并注意路径中斜杠的方向\n",
    "stock_data = pd.read_csv(stock_data_cvs, index_col=False,names=['cl','buyorsell','date','price'],converters={'date':lambda x: x[5:],'price':lambda x: x[6:]},parse_dates=['date'])"
   ]
  },
  {
   "cell_type": "code",
   "execution_count": null,
   "metadata": {
    "collapsed": false
   },
   "outputs": [],
   "source": [
    "#stock_data"
   ]
  },
  {
   "cell_type": "code",
   "execution_count": null,
   "metadata": {
    "collapsed": false
   },
   "outputs": [],
   "source": [
    "# 保留这几个需要的字段：'date',  'close'\n",
    "\n",
    "# 对数据按照【date】交易日期从小到大排序\n",
    "stock_data.sort_values(['cl','date'], inplace=True)"
   ]
  },
  {
   "cell_type": "code",
   "execution_count": null,
   "metadata": {
    "collapsed": false
   },
   "outputs": [],
   "source": [
    "stock_data"
   ]
  },
  {
   "cell_type": "code",
   "execution_count": null,
   "metadata": {
    "collapsed": true
   },
   "outputs": [],
   "source": [
    "cl_names = stock_data['cl'].unique()"
   ]
  },
  {
   "cell_type": "code",
   "execution_count": null,
   "metadata": {
    "collapsed": false
   },
   "outputs": [],
   "source": [
    "cl_names"
   ]
  },
  {
   "cell_type": "code",
   "execution_count": null,
   "metadata": {
    "collapsed": true
   },
   "outputs": [],
   "source": [
    "def stick_num(stock_data):\n",
    "    num_buy=0\n",
    "    num_sell=0\n",
    "    money=0\n",
    "    money_buy_all = 0\n",
    "    money_sell_all = 0\n",
    "    buy_items = []\n",
    "    sell_items = []\n",
    "    for idx, row in stock_data.iterrows():\n",
    "        if row['buyorsell'] == \"++\" :\n",
    "            for item in sell_items:\n",
    "                #print row['price'],item['price']\n",
    "                money_buy_inter = (int(row['price']) - int(item['price'])) * item['num']\n",
    "                #print 'buy',money_buy_inter\n",
    "                money_buy_all = money_buy_all + money_buy_inter\n",
    "            #\n",
    "            sell_items = []\n",
    "            if len(buy_items) <=0 :\n",
    "                buy_items.append({'num':1,'price':row['price']})\n",
    "        else:\n",
    "            for item in buy_items:\n",
    "                money_sell_inter = (int(row['price']) - int(item['price'])) * item['num']\n",
    "                #print 'sell',money_sell_inter\n",
    "                money_sell_all = money_sell_all + money_sell_inter\n",
    "            #\n",
    "            buy_items = []\n",
    "            if len(sell_items) <=0 :\n",
    "                sell_items.append({'num':1,'price':row['price']})\n",
    "    return  money_buy_all,money_sell_all,buy_items,sell_items      \n",
    "            "
   ]
  },
  {
   "cell_type": "code",
   "execution_count": null,
   "metadata": {
    "collapsed": false
   },
   "outputs": [],
   "source": [
    "for cl in cl_names:\n",
    "    cl_data = stock_data[stock_data['cl']== cl]\n",
    "    #print cl_data\n",
    "    money_buy_all,money_sell_all,buy_items,sell_items = stick_num(cl_data)\n",
    "    print money_buy_all\n",
    "    print money_sell_all\n",
    "    print buy_items\n",
    "    print sell_items\n",
    "    #break"
   ]
  },
  {
   "cell_type": "code",
   "execution_count": null,
   "metadata": {
    "collapsed": true
   },
   "outputs": [],
   "source": [
    "# 当当天的【close】> M26 时，将【收盘发出的信号】设定为1\n",
    "buy_index = index_data[index_data['buyorsell'] == '++'].index\n",
    "stock_data.loc[buy_index, 'close_signal'] = 1\n",
    "# 当当天的【close】< M26 时，将【收盘发出的信号】设定为 0\n",
    "sell_index = index_data[index_data['buyorsell'] ==   '--'].index\n",
    "stock_data.loc[sell_index, 'close_signal'] = 0\n",
    "# 计算每天的仓位，当天应该买入时，【当天的买卖信号】为1，当天不应该买入时，【当天的买卖信号】为0\n",
    "stock_data['today_signal'] = index_data['close_signal'].shift(1)\n",
    "# 前向 填充空值\n",
    "# index_data['today_signal'].fillna(method='ffill', inplace=True)"
   ]
  },
  {
   "cell_type": "code",
   "execution_count": null,
   "metadata": {
    "collapsed": false
   },
   "outputs": [],
   "source": [
    "# 将数据按照交易日期从远到近排序\n",
    "index_data.sort_values('date', ascending=True, inplace=True)"
   ]
  },
  {
   "cell_type": "code",
   "execution_count": null,
   "metadata": {
    "collapsed": true
   },
   "outputs": [],
   "source": [
    "# ========== 将算好的数据输出到csv文件 - 注意：这里请填写输出文件在您电脑中的路径\n",
    "# output CSV数据文件\n",
    "output_index_data_path = 'E:/project/pychram/traderesp/base/output-csv/'\n",
    "output_index_data_cvs = output_index_data_path + 'output-sh000001-2013-2014-index.csv'\n",
    "index_data.to_csv(output_index_data_cvs,encoding='gbk', index=False)"
   ]
  },
  {
   "cell_type": "code",
   "execution_count": null,
   "metadata": {
    "collapsed": false
   },
   "outputs": [],
   "source": [
    "index_data['today_signal'].count()"
   ]
  },
  {
   "cell_type": "code",
   "execution_count": null,
   "metadata": {
    "collapsed": false
   },
   "outputs": [],
   "source": [
    "index_data[index_data['today_signal'] > 0].count()"
   ]
  },
  {
   "cell_type": "code",
   "execution_count": null,
   "metadata": {
    "collapsed": false
   },
   "outputs": [],
   "source": [
    "index_data[index_data['today_signal'] < 1].count()"
   ]
  },
  {
   "cell_type": "code",
   "execution_count": null,
   "metadata": {
    "collapsed": false
   },
   "outputs": [],
   "source": [
    "#for close,ma,preday,buy in index_data:\n",
    "#    print close,ma,preday,buy"
   ]
  },
  {
   "cell_type": "code",
   "execution_count": null,
   "metadata": {
    "collapsed": false
   },
   "outputs": [],
   "source": [
    "index_data.index"
   ]
  },
  {
   "cell_type": "code",
   "execution_count": null,
   "metadata": {
    "collapsed": false
   },
   "outputs": [],
   "source": [
    "index_data_if_buy = index_data[['date','today_signal']]\n",
    "index_data_if_buy.index.name=\"date\"\n",
    "index_data_if_buy[index_data_if_buy['today_signal'] < 1].count()"
   ]
  },
  {
   "cell_type": "code",
   "execution_count": null,
   "metadata": {
    "collapsed": false
   },
   "outputs": [],
   "source": [
    "index_data.columns"
   ]
  },
  {
   "cell_type": "code",
   "execution_count": null,
   "metadata": {
    "collapsed": false
   },
   "outputs": [],
   "source": [
    "index_data"
   ]
  },
  {
   "cell_type": "code",
   "execution_count": null,
   "metadata": {
    "collapsed": false
   },
   "outputs": [],
   "source": [
    "for idx, row in index_data.iterrows():\n",
    "    if row['today_signal'] > 0 :\n",
    "        print row['date']"
   ]
  },
  {
   "cell_type": "code",
   "execution_count": null,
   "metadata": {
    "collapsed": true
   },
   "outputs": [],
   "source": [
    "def hanlder(x):\n",
    "    print x"
   ]
  },
  {
   "cell_type": "code",
   "execution_count": null,
   "metadata": {
    "collapsed": false
   },
   "outputs": [],
   "source": [
    "index_data['today_signal'].map(hanlder)"
   ]
  },
  {
   "cell_type": "code",
   "execution_count": null,
   "metadata": {
    "collapsed": true
   },
   "outputs": [],
   "source": [
    "def hanlder2(x):\n",
    "    print x['date'],x['today_signal']"
   ]
  },
  {
   "cell_type": "code",
   "execution_count": null,
   "metadata": {
    "collapsed": false
   },
   "outputs": [],
   "source": [
    "index_data.apply(hanlder2,axis=1)"
   ]
  },
  {
   "cell_type": "code",
   "execution_count": null,
   "metadata": {
    "collapsed": true
   },
   "outputs": [],
   "source": []
  }
 ],
 "metadata": {
  "kernelspec": {
   "display_name": "Python 2",
   "language": "python",
   "name": "python2"
  },
  "language_info": {
   "codemirror_mode": {
    "name": "ipython",
    "version": 2
   },
   "file_extension": ".py",
   "mimetype": "text/x-python",
   "name": "python",
   "nbconvert_exporter": "python",
   "pygments_lexer": "ipython2",
   "version": "2.7.8"
  }
 },
 "nbformat": 4,
 "nbformat_minor": 0
}
