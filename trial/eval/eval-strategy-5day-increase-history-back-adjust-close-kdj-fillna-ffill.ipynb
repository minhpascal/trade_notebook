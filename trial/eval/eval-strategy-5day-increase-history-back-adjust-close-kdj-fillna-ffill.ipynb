{
 "cells": [
  {
   "cell_type": "code",
   "execution_count": null,
   "metadata": {
    "collapsed": false
   },
   "outputs": [],
   "source": [
    "from __future__ import division\n",
    "from numpy.random import randn\n",
    "from pandas import Series\n",
    "import numpy as np\n",
    "import pandas as pd\n",
    "from datetime import datetime\n",
    "import math\n",
    "np.set_printoptions(precision=4)\n",
    "import sys; sys.path.append('book_scripts')\n",
    "%pwd"
   ]
  },
  {
   "cell_type": "code",
   "execution_count": null,
   "metadata": {
    "collapsed": true
   },
   "outputs": [],
   "source": [
    "# input Base CSV数据文件\n",
    "input_base_index_data_csv = 'E:/project/pychram/traderesp/base/output-csv/output-sh000001-2013-2014-index.csv'\n",
    "input_base_stock_data_csv = 'E:/project/pychram/traderesp/base/output-csv/output-2013-2014-day-stock-history.csv'"
   ]
  },
  {
   "cell_type": "code",
   "execution_count": null,
   "metadata": {
    "collapsed": true
   },
   "outputs": [],
   "source": [
    "# input strategy CSV数据文件\n",
    "input_strategy_stock_data_csv = 'E:/project/pychram/traderesp/strategy/output-csv/output-stock-2014-5day-increase.csv'"
   ]
  },
  {
   "cell_type": "code",
   "execution_count": null,
   "metadata": {
    "collapsed": false
   },
   "outputs": [],
   "source": [
    "# 注意：这里请填写数据文件在您电脑中的路径，并注意路径中斜杠的方向\n",
    "base_index_data = pd.read_csv(input_base_index_data_csv,parse_dates=['date'],encoding='gbk')"
   ]
  },
  {
   "cell_type": "code",
   "execution_count": null,
   "metadata": {
    "collapsed": true
   },
   "outputs": [],
   "source": [
    "base_stock_data = pd.read_csv(input_base_stock_data_csv,parse_dates=['date'],encoding='gbk')"
   ]
  },
  {
   "cell_type": "code",
   "execution_count": null,
   "metadata": {
    "collapsed": false
   },
   "outputs": [],
   "source": [
    "strategy_stock_data = pd.read_csv(input_strategy_stock_data_csv,parse_dates=['date'],encoding='gbk')"
   ]
  },
  {
   "cell_type": "code",
   "execution_count": null,
   "metadata": {
    "collapsed": false
   },
   "outputs": [],
   "source": [
    "base_index_data.columns"
   ]
  },
  {
   "cell_type": "code",
   "execution_count": null,
   "metadata": {
    "collapsed": false
   },
   "outputs": [],
   "source": [
    "base_stock_data.columns"
   ]
  },
  {
   "cell_type": "code",
   "execution_count": null,
   "metadata": {
    "collapsed": false
   },
   "outputs": [],
   "source": [
    "strategy_stock_data.columns"
   ]
  },
  {
   "cell_type": "code",
   "execution_count": null,
   "metadata": {
    "collapsed": true
   },
   "outputs": [],
   "source": [
    "max_use_money = 0.00\n",
    "cur_use_money = 0.00\n",
    "cur_stock_list = []\n",
    "stock_buy_sell_history_list = []"
   ]
  },
  {
   "cell_type": "code",
   "execution_count": null,
   "metadata": {
    "collapsed": true
   },
   "outputs": [],
   "source": [
    "def check_and_add_money():\n",
    "    global max_use_money\n",
    "    global cur_use_money\n",
    "    if cur_use_money < 100000.00 :\n",
    "        max_use_money += 50000.00\n",
    "        cur_use_money += 50000.00"
   ]
  },
  {
   "cell_type": "code",
   "execution_count": null,
   "metadata": {
    "collapsed": true
   },
   "outputs": [],
   "source": [
    "def check_stock_list_empty():\n",
    "    global cur_stock_list\n",
    "    if len(cur_stock_list) > 0:\n",
    "        return False\n",
    "    else:\n",
    "        return True"
   ]
  },
  {
   "cell_type": "code",
   "execution_count": null,
   "metadata": {
    "collapsed": false
   },
   "outputs": [],
   "source": [
    "def show_cur_msg():\n",
    "    print \"max_use_money =\",max_use_money\n",
    "    print \"cur_use_money =\",cur_use_money\n",
    "    print \"cur_stock_list count() =\",len(cur_stock_list)\n",
    "    print \"stock_buy_sell_history_list count() =\",len(stock_buy_sell_history_list)"
   ]
  },
  {
   "cell_type": "code",
   "execution_count": null,
   "metadata": {
    "collapsed": false
   },
   "outputs": [],
   "source": [
    "def do_buy_stock(cur_date,strategy_stock):\n",
    "    global base_stock_data\n",
    "    global cur_use_money\n",
    "    global cur_stock_list\n",
    "    # print strategy_stock\n",
    "    for id, row in strategy_stock.iterrows():\n",
    "        #print id,row\n",
    "        # 1. check money num\n",
    "        check_and_add_money()\n",
    "        # 2. \n",
    "        code = row['code'].strip('\\'')\n",
    "        tmp_df = base_stock_data[(base_stock_data['date'] == cur_date) & (base_stock_data['code'] == int(code))].dropna()\n",
    "        #print len(tmp_df)\n",
    "        if len(tmp_df) > 0:\n",
    "            #print tmp_df['close']\n",
    "            #type(tmp_df['close'])\n",
    "            buy_price = float(tmp_df['back_close'])\n",
    "            buy_hand_num = math.ceil(10000/(buy_price*100))\n",
    "            tmp_buy_rec = {'code':code,\n",
    "                           'buy_price':buy_price,\n",
    "                           'buy_num':buy_hand_num*100,\n",
    "                           'buy_date':cur_date,\n",
    "                           'buy_money':buy_hand_num*100*buy_price}\n",
    "            cur_use_money -= buy_hand_num*100*buy_price\n",
    "            cur_stock_list.append(tmp_buy_rec)    "
   ]
  },
  {
   "cell_type": "code",
   "execution_count": null,
   "metadata": {
    "collapsed": true
   },
   "outputs": [],
   "source": [
    "def do_sell_stock(cur_date):\n",
    "    global base_stock_data\n",
    "    global cur_use_money\n",
    "    global cur_stock_list\n",
    "    global stock_buy_sell_history_list\n",
    "    \n",
    "    # 当前没有可以卖出的股票\n",
    "    if len(cur_stock_list) == 0 :\n",
    "        return False\n",
    "    # 遍历列表\n",
    "    need_delete_list = []\n",
    "    for item in cur_stock_list:\n",
    "        code = item['code']\n",
    "        buy_price =item['buy_price']\n",
    "        buy_num = item['buy_num']\n",
    "        buy_money = item['buy_money']\n",
    "        buy_date = item['buy_date']\n",
    "        # 查询 当天的股价\n",
    "        tmp_df = base_stock_data[(base_stock_data['date'] == cur_date) & (base_stock_data['code'] == int(code))].dropna()\n",
    "        # 当天没有该股票信息,跳过\n",
    "        if len(tmp_df) == 0:\n",
    "            #print '没有找到该股票信息'\n",
    "            continue\n",
    "        # \n",
    "        sell_price = float(tmp_df['back_close'])\n",
    "        sell_num = buy_num\n",
    "        sell_money = sell_price * sell_num\n",
    "        sell_date = cur_date\n",
    "        #\n",
    "        need_delete_list.append(item)\n",
    "        #\n",
    "        old_item = item\n",
    "        old_item['sell_price'] = sell_price\n",
    "        old_item['sell_num'] = sell_num\n",
    "        old_item['sell_money'] = sell_money\n",
    "        old_item['sell_date'] = sell_date\n",
    "        stock_buy_sell_history_list.append(old_item)\n",
    "        #\n",
    "        cur_use_money += sell_money\n",
    "    \n",
    "    #删除\n",
    "    for item in need_delete_list:\n",
    "        cur_stock_list.remove(item)"
   ]
  },
  {
   "cell_type": "code",
   "execution_count": null,
   "metadata": {
    "collapsed": true
   },
   "outputs": [],
   "source": [
    "def do_sell_condition_stock(cur_date):\n",
    "    global base_stock_data\n",
    "    global cur_use_money\n",
    "    global cur_stock_list\n",
    "    global stock_buy_sell_history_list\n",
    "    \n",
    "    # 当前没有可以卖出的股票\n",
    "    if len(cur_stock_list) == 0 :\n",
    "        return False\n",
    "    # 遍历列表\n",
    "    need_delete_list = []\n",
    "    for item in cur_stock_list:\n",
    "        code = item['code']\n",
    "        buy_price =item['buy_price']\n",
    "        buy_num = item['buy_num']\n",
    "        buy_money = item['buy_money']\n",
    "        buy_date = item['buy_date']\n",
    "        # 0. 当天的不计算\n",
    "        if buy_date == cur_date:\n",
    "            #print '当天买的'\n",
    "            continue\n",
    "            \n",
    "        sell_price = 0.00    \n",
    "        # 0. 超过 3 天，强制卖出\n",
    "        if (cur_date - buy_date).days >= 8:\n",
    "            # 查询当天的股价\n",
    "            tmp_df = base_stock_data[(base_stock_data['date'] == cur_date) \n",
    "                                     & (base_stock_data['code'] == int(code))].dropna()\n",
    "            # 当天没有该股票信息,跳过\n",
    "            if len(tmp_df) == 0:\n",
    "                #print '没有找到该股票信息'\n",
    "                continue\n",
    "            else:\n",
    "                sell_price = float(tmp_df['back_close'])\n",
    "        # 1. 3 天内，判断是否死叉    \n",
    "        else:\n",
    "            # 1. 查询当天的卖出条件\n",
    "            # 2. 符合卖出条件，返回当天的股价\n",
    "            tmp_df = base_stock_data[(base_stock_data['date'] == cur_date) \n",
    "                                     & (base_stock_data['code'] == int(code))\n",
    "                                     & (base_stock_data['today_kdj_x_signal'] == 1)].dropna()\n",
    "            # 2.1 没有死叉,跳过\n",
    "            if len(tmp_df) == 0:\n",
    "                #print '没有找到该股票信息'\n",
    "                continue\n",
    "            else:\n",
    "                sell_price = float(tmp_df['back_close'])\n",
    "        \n",
    "        #\n",
    "        sell_num = buy_num\n",
    "        sell_money = sell_price * sell_num\n",
    "        sell_date = cur_date\n",
    "        #\n",
    "        need_delete_list.append(item)\n",
    "        #\n",
    "        old_item = item\n",
    "        old_item['sell_price'] = sell_price\n",
    "        old_item['sell_num'] = sell_num\n",
    "        old_item['sell_money'] = sell_money\n",
    "        old_item['sell_date'] = sell_date\n",
    "        stock_buy_sell_history_list.append(old_item)\n",
    "        #\n",
    "        cur_use_money += sell_money\n",
    "    \n",
    "    #删除\n",
    "    for item in need_delete_list:\n",
    "        cur_stock_list.remove(item)"
   ]
  },
  {
   "cell_type": "code",
   "execution_count": null,
   "metadata": {
    "collapsed": false
   },
   "outputs": [],
   "source": [
    "def run_strategy():\n",
    "    global base_index_data\n",
    "    global strategy_stock_data\n",
    "\n",
    "    # 遍历\n",
    "    for id,row in base_index_data.iterrows():\n",
    "        #空值跳过\n",
    "        if row.isnull().any():\n",
    "            continue\n",
    "\n",
    "        # 当前时间加一天的时间区间，仍然为当天\n",
    "        cur_date = row['date']\n",
    "        #print cur_date\n",
    "\n",
    "        # 1.可买状态\n",
    "        if int(row['today_signal']) == 1 :\n",
    "            #print row\n",
    "            #print int(row['today_signal'])\n",
    "            # 1. check stock list\n",
    "            # 判断当天是否有策略\n",
    "            cur_day_strategy_stock = strategy_stock_data[strategy_stock_data['date'] == cur_date].dropna()\n",
    "            #print cur_day_strategy_stock\n",
    "            # 1.1 当天没有 stragecy stock list，不需处理,\n",
    "            if len(cur_day_strategy_stock) == 0 :\n",
    "                #print cur_date,'当天没有策略'\n",
    "                pass\n",
    "            # 1.2 当天有 stragecy stock list,买入 stock_list   \n",
    "            else:\n",
    "                do_buy_stock(cur_date,cur_day_strategy_stock)\n",
    "                #break\n",
    "            # 2. check cur_stock_list，看是否有符合卖出条件的 stock\n",
    "            do_sell_condition_stock(cur_date)\n",
    "        # 2. 可卖状态        \n",
    "        if int(row['today_signal']) == 0 :\n",
    "            #print row\n",
    "            #print int(row['today_signal'])\n",
    "            # 1. 判断当前 stock 列表是否为空\n",
    "            is_empty = check_stock_list_empty()\n",
    "            # 1.1 当前 stock 列表为空，不需处理,跳过\n",
    "            if is_empty:\n",
    "                #print cur_date,'当天 Stock 列表为空'\n",
    "                continue\n",
    "            # 1.2 当前有 stock list    \n",
    "            else:\n",
    "                do_sell_stock(cur_date)\n",
    "                #break;        "
   ]
  },
  {
   "cell_type": "code",
   "execution_count": null,
   "metadata": {
    "collapsed": true
   },
   "outputs": [],
   "source": [
    "# 统计\n",
    "def gen_staticstics():\n",
    "    global base_index_data\n",
    "    global cur_stock_list\n",
    "    end_date = base_index_data['date'].max()\n",
    "    do_sell_stock(end_date)\n",
    "    # 生成可统计 dataframe\n",
    "    # 将仍然没有卖出的，记为最后一日卖出,价格等为买入价格\n",
    "    new_list = []\n",
    "    for item in cur_stock_list:\n",
    "        old_item = item\n",
    "        old_item['sell_price'] = item['buy_price']\n",
    "        old_item['sell_num'] = item['buy_num']\n",
    "        old_item['sell_money'] = item['buy_money']\n",
    "        old_item['sell_date'] = end_date\n",
    "        new_list.append(old_item)\n",
    "    #\n",
    "    stat1 = pd.DataFrame(stock_buy_sell_history_list)\n",
    "    stat2 = pd.DataFrame(new_list)\n",
    "    stat = pd.concat([stat1,stat2],ignore_index=True) \n",
    "    show_staticstics(stat)\n",
    "    return stat"
   ]
  },
  {
   "cell_type": "code",
   "execution_count": null,
   "metadata": {
    "collapsed": false
   },
   "outputs": [],
   "source": [
    "def show_staticstics(stat):\n",
    "    global max_use_money \n",
    "    global stock_buy_sell_history_list \n",
    "    #\n",
    "    action_num = len(stock_buy_sell_history_list)\n",
    "    stat_sum_all = stat.sum()\n",
    "    code_unique_num = len(stat['code'].unique())\n",
    "    s_ge_b_num = stat[stat['sell_price'] > stat['buy_price']].count()\n",
    "    #\n",
    "    print '最大使用资金额 :',max_use_money \n",
    "    print '买入股票总数(排重) :',code_unique_num\n",
    "    print '买卖总次数(一次买卖算一次) :',action_num\n",
    "    print '其中获利次数 :',s_ge_b_num['code']\n",
    "    print '其中亏损次数 :',(action_num - s_ge_b_num['code'])\n",
    "    print '获利次数比率 :',s_ge_b_num['code'] / action_num\n",
    "    print '亏损次数比率 :',(action_num - s_ge_b_num['code']) / action_num\n",
    "    print '买盘资金累计 :',stat_sum_all['buy_money']\n",
    "    print '卖盘资金累计 :',stat_sum_all['sell_money']\n",
    "    print '利润累计 :',(stat_sum_all['sell_money'] - stat_sum_all['buy_money'])\n",
    "    print '利润率 :',(stat_sum_all['sell_money'] - stat_sum_all['buy_money']) / max_use_money\n",
    "    \n",
    "    tmp = stat[stat['sell_price'] > stat['buy_price']].sum()\n",
    "    print '获利股票利润率 :',(tmp['sell_money'] - tmp['buy_money']) /  max_use_money\n",
    "    tmp = stat[stat['sell_price'] <= stat['buy_price']].sum()\n",
    "    print '亏损股票利润率 :',(tmp['sell_money'] - tmp['buy_money']) /  max_use_money\n",
    "    \n",
    "    \n",
    "    "
   ]
  },
  {
   "cell_type": "code",
   "execution_count": null,
   "metadata": {
    "collapsed": false
   },
   "outputs": [],
   "source": [
    "run_strategy()"
   ]
  },
  {
   "cell_type": "code",
   "execution_count": null,
   "metadata": {
    "collapsed": false
   },
   "outputs": [],
   "source": [
    "stat = gen_staticstics()"
   ]
  }
 ],
 "metadata": {
  "kernelspec": {
   "display_name": "Python 2",
   "language": "python",
   "name": "python2"
  },
  "language_info": {
   "codemirror_mode": {
    "name": "ipython",
    "version": 2
   },
   "file_extension": ".py",
   "mimetype": "text/x-python",
   "name": "python",
   "nbconvert_exporter": "python",
   "pygments_lexer": "ipython2",
   "version": "2.7.8"
  }
 },
 "nbformat": 4,
 "nbformat_minor": 0
}
