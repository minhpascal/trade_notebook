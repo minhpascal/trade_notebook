{
 "cells": [
  {
   "cell_type": "code",
   "execution_count": 1,
   "metadata": {
    "collapsed": false
   },
   "outputs": [
    {
     "data": {
      "text/plain": [
       "u'E:\\\\project\\\\pychram\\\\book_scripts'"
      ]
     },
     "execution_count": 1,
     "metadata": {},
     "output_type": "execute_result"
    }
   ],
   "source": [
    "from __future__ import division\n",
    "from numpy.random import randn\n",
    "from pandas import Series\n",
    "import numpy as np\n",
    "import pandas as pd\n",
    "from datetime import datetime\n",
    "import math\n",
    "np.set_printoptions(precision=4)\n",
    "import sys; sys.path.append('book_scripts')\n",
    "%pwd"
   ]
  },
  {
   "cell_type": "code",
   "execution_count": 2,
   "metadata": {
    "collapsed": true
   },
   "outputs": [],
   "source": [
    "def load_stock_base_msg():\n",
    "    stock_data_path = 'E:/project/pychram/traderesp/base/output-csv/'\n",
    "    stock_data_cvs = stock_data_path + 'output-2013-2014-all-stock-base-msg.csv'\n",
    "    #\n",
    "    stat = pd.read_csv(stock_data_cvs,encoding='gbk',index_col=['code'])\n",
    "    return stat"
   ]
  },
  {
   "cell_type": "code",
   "execution_count": 3,
   "metadata": {
    "collapsed": true
   },
   "outputs": [],
   "source": [
    "def load_stock_tutle_staticstics(begtime,endtime,N1=20,N2=10,year=True):\n",
    "    #\n",
    "    stock_data_path = 'E:/project/pychram/traderesp/strategy/output-csv/'\n",
    "    stock_data_cvs = stock_data_path + 'output-stock-history-close-turtle-' \\\n",
    "         + str(N1) + '-' + str(N2) + '-' + begtime.strftime('%Y%m%d') + '-' + endtime.strftime('%Y%m%d') \n",
    "    stock_data_cvs += '-year' if year == True else ''\n",
    "    stock_data_cvs += '.csv'\n",
    "    #\n",
    "    stat = pd.read_csv(stock_data_cvs,parse_dates=['date'],encoding='gbk')\n",
    "    return stat"
   ]
  },
  {
   "cell_type": "code",
   "execution_count": 4,
   "metadata": {
    "collapsed": false
   },
   "outputs": [],
   "source": [
    "def get_date_period_staticstics(all_stock,begtime,endtime):\n",
    "    #\n",
    "    year_stock = all_stock[all_stock['date'] == endtime]\n",
    "    #\n",
    "    year_code_num = len(year_stock['code'].unique())\n",
    "    suc_num = year_stock[year_stock['change_action'] > 1.00 ].count() \n",
    "    fail_num = year_code_num - suc_num\n",
    "    #\n",
    "    suc_num_percent_5 = year_stock[year_stock['change_action'] > 1.05 ].count() \n",
    "    #\n",
    "    strategy_suc = year_stock[year_stock['change_action'] > year_stock['change_stick'] ].count() \n",
    "    strategy_suc_over_0 = year_stock[(year_stock['change_action'] > year_stock['change_stick']) \\\n",
    "                                    & (year_stock['change_action'] > 1.00)].count() \n",
    "    strategy_suc_over_5 = year_stock[(year_stock['change_action'] > year_stock['change_stick']) \\\n",
    "                                    & (year_stock['change_action'] > 1.05)].count() \n",
    "    strategy_suc_over_20 = year_stock[(year_stock['change_action'] > year_stock['change_stick']) \\\n",
    "                                    & (year_stock['change_action'] > 0.20)].count()\n",
    "    strategy_suc_over_20_5 = year_stock[((year_stock['change_action'] - year_stock['change_stick']) > 0.20) \\\n",
    "                                    & (year_stock['change_action'] > 1.05)].count()\n",
    "    strategy_suc_over_20_20 = year_stock[((year_stock['change_action'] - year_stock['change_stick']) > 0.20) \\\n",
    "                                    & (year_stock['change_action'] > 1.20)].count()    \n",
    "    #\n",
    "    print '-----  ',begtime,'  ----  ',endtime,'  -----'\n",
    "    print '股票总数(排重) :',year_code_num\n",
    "    print '年度获利股票数 :',suc_num['code']\n",
    "    print '年度亏损股票数 :',fail_num['code']\n",
    "    print '年度获利股票数比率 :',suc_num['code'] / year_code_num\n",
    "    print '年度亏损股票数比率 :',fail_num['code'] / year_code_num\n",
    "    print '年度获利股票数( 盈利大于5%) :',suc_num_percent_5['code']\n",
    "    print '年度获利股票数比率( 盈利大于5%) :',suc_num_percent_5['code'] / year_code_num\n",
    "    print '年度策略成功股票数 :',strategy_suc['code']\n",
    "    print '年度策略成功并获利股票数 :',strategy_suc_over_0['code']\n",
    "    print '年度策略成功并获利(盈利大于5%)股票数 :',strategy_suc_over_5['code']\n",
    "    print '年度策略成功并获利(盈利20%)股票数 :',strategy_suc_over_20['code']\n",
    "    print '年度策略成功并获利(大于标准5%)股票数 :',strategy_suc_over_20_5['code']\n",
    "    print '年度策略成功并获利(大于标准20%)股票数 :',strategy_suc_over_20_20['code']\n",
    "    print '---------------------------------------------------------------------'\n",
    "    #\n",
    "    return "
   ]
  },
  {
   "cell_type": "code",
   "execution_count": 5,
   "metadata": {
    "collapsed": false
   },
   "outputs": [],
   "source": [
    "def show_date_staticstics():\n",
    "    all_stock = load_stock_tutle_staticstics(datetime(2013,1,1),datetime(2014,12,31))\n",
    "    get_date_period_staticstics(all_stock,datetime(2013,1,1),datetime(2013,12,31))\n",
    "    get_date_period_staticstics(all_stock,datetime(2014,1,1),datetime(2014,12,31))\n"
   ]
  },
  {
   "cell_type": "code",
   "execution_count": 6,
   "metadata": {
    "collapsed": false
   },
   "outputs": [
    {
     "name": "stdout",
     "output_type": "stream",
     "text": [
      "-----   2013-01-01 00:00:00   ----   2013-12-31 00:00:00   -----\n",
      "股票总数(排重) : 2470\n",
      "年度获利股票数 : 1101\n",
      "年度亏损股票数 : 1369\n",
      "年度获利股票数比率 : 0.445748987854\n",
      "年度亏损股票数比率 : 0.554251012146\n",
      "年度获利股票数( 盈利大于5%) : 934\n",
      "年度获利股票数比率( 盈利大于5%) : 0.378137651822\n",
      "年度策略成功股票数 : 612\n",
      "年度策略成功并获利股票数 : 239\n",
      "年度策略成功并获利(盈利大于5%)股票数 : 186\n",
      "年度策略成功并获利(盈利20%)股票数 : 612\n",
      "年度策略成功并获利(大于标准5%)股票数 : 50\n",
      "年度策略成功并获利(大于标准20%)股票数 : 32\n",
      "---------------------------------------------------------------------\n",
      "-----   2014-01-01 00:00:00   ----   2014-12-31 00:00:00   -----\n",
      "股票总数(排重) : 2592\n",
      "年度获利股票数 : 1752\n",
      "年度亏损股票数 : 840\n",
      "年度获利股票数比率 : 0.675925925926\n",
      "年度亏损股票数比率 : 0.324074074074\n",
      "年度获利股票数( 盈利大于5%) : 1619\n",
      "年度获利股票数比率( 盈利大于5%) : 0.624614197531\n",
      "年度策略成功股票数 : 319\n",
      "年度策略成功并获利股票数 : 257\n",
      "年度策略成功并获利(盈利大于5%)股票数 : 241\n",
      "年度策略成功并获利(盈利20%)股票数 : 319\n",
      "年度策略成功并获利(大于标准5%)股票数 : 106\n",
      "年度策略成功并获利(大于标准20%)股票数 : 87\n",
      "---------------------------------------------------------------------\n"
     ]
    }
   ],
   "source": [
    "show_date_staticstics()"
   ]
  },
  {
   "cell_type": "code",
   "execution_count": null,
   "metadata": {
    "collapsed": true
   },
   "outputs": [],
   "source": []
  }
 ],
 "metadata": {
  "kernelspec": {
   "display_name": "Python 2",
   "language": "python",
   "name": "python2"
  },
  "language_info": {
   "codemirror_mode": {
    "name": "ipython",
    "version": 2
   },
   "file_extension": ".py",
   "mimetype": "text/x-python",
   "name": "python",
   "nbconvert_exporter": "python",
   "pygments_lexer": "ipython2",
   "version": "2.7.8"
  }
 },
 "nbformat": 4,
 "nbformat_minor": 0
}
