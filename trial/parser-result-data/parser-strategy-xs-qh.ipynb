{
 "cells": [
  {
   "cell_type": "code",
   "execution_count": null,
   "metadata": {
    "collapsed": false
   },
   "outputs": [],
   "source": [
    "from __future__ import division\n",
    "from numpy.random import randn\n",
    "from pandas import Series\n",
    "import numpy as np\n",
    "import pandas as pd\n",
    "from datetime import datetime\n",
    "import math\n",
    "np.set_printoptions(precision=4)\n",
    "import sys; sys.path.append('book_scripts')\n",
    "%pwd"
   ]
  },
  {
   "cell_type": "code",
   "execution_count": null,
   "metadata": {
    "collapsed": true
   },
   "outputs": [],
   "source": [
    "def load_stock_base_msg():\n",
    "    stock_data_path = 'E:/Download/QQ/28814405/FileRecv/'\n",
    "    stock_data_cvs = stock_data_path + 'trader_report_1.csv'\n",
    "    #\n",
    "    stat = pd.read_csv(stock_data_cvs,encoding='gbk',index_col=['code'])\n",
    "    return stat"
   ]
  },
  {
   "cell_type": "code",
   "execution_count": null,
   "metadata": {
    "collapsed": false
   },
   "outputs": [],
   "source": [
    "def get_date_period_staticstics(begtime,endtime):\n",
    "    #\n",
    "    stock_data_path = 'E:/project/pychram/traderesp/strategy/output-csv/'\n",
    "    stock_data_cvs = stock_data_path + 'output-stock-history-adjust-m26-' \\\n",
    "                                     + begtime.strftime('%Y%m%d') + '-' + endtime.strftime('%Y%m%d') + '.csv'\n",
    "    #\n",
    "    stock_data_path = 'E:/Download/QQ/28814405/FileRecv/'\n",
    "    stock_data_cvs = stock_data_path + 'trader_report_1.csv'\n",
    "    stat = pd.read_csv(stock_data_cvs,parse_dates=3,encoding='gbk')\n",
    "    \n",
    "    #逐笔利润\n",
    "    stat['profit'] = stat['sell_price'] - stat['buy_price']\n",
    "    #\n",
    "    action_num = len(stat)\n",
    "    suc_num = stat[stat['profit'] > 0.00 ].count() \n",
    "    fail_num = action_num - suc_num\n",
    "    #\n",
    "    tmp_profit = stat.groupby(['code']).sum()\n",
    "    year_action_num = len(tmp_profit)\n",
    "    tmp_profit['profit_rate'] = (tmp_profit['sell_price'] - tmp_profit['buy_price']) / tmp_profit['buy_price']\n",
    "    year_suc_num = tmp_profit[tmp_profit['profit_rate'] > 0.00].count()\n",
    "    year_fail_num = year_action_num - year_suc_num\n",
    "    #\n",
    "    year_suc_num_gt_percet_5 = tmp_profit[tmp_profit['profit_rate'] > 0.05].count()\n",
    "    #\n",
    "    stat_sum_all = stat.sum()\n",
    "    code_unique_num = len(stat['code'].unique())\n",
    "    s_ge_b_num = stat[stat['sell_price'] > stat['buy_price']].count()\n",
    "    #\n",
    "    print '-----  ',begtime,'  ----  ',endtime,'  -----'\n",
    "    print '股票总数(排重) :',year_action_num\n",
    "    print '买卖总次数(一次买卖算一次) :',action_num\n",
    "    print '其中获利次数 :',suc_num['profit']\n",
    "    print '其中亏损次数 :',fail_num['profit']\n",
    "    print '获利次数比率 :',suc_num['profit'] / action_num\n",
    "    print '亏损次数比率 :',fail_num['profit'] / action_num\n",
    "    print '年度获利股票数 :',year_suc_num['profit_rate']\n",
    "    print '年度亏损股票数 :',year_fail_num['profit_rate']\n",
    "    print '年度获利股票数比率 :',year_suc_num['profit_rate'] / year_action_num\n",
    "    print '年度亏损股票数比率 :',year_fail_num['profit_rate'] / year_action_num\n",
    "    print '年度获利股票数( 盈利大于5%) :',year_suc_num_gt_percet_5['profit_rate']\n",
    "    print '年度获利股票数比率( 盈利大于5%) :',year_suc_num_gt_percet_5['profit_rate'] / year_action_num\n",
    "    print '---------------------------------------------------------------------'\n",
    "    #\n",
    "    return tmp_profit[tmp_profit['profit_rate'] > 0.00].sort_values('profit_rate',ascending=False),tmp_profit,stat"
   ]
  },
  {
   "cell_type": "code",
   "execution_count": null,
   "metadata": {
    "collapsed": false
   },
   "outputs": [],
   "source": [
    "def show_date_staticstics():\n",
    "    code1 = get_date_period_staticstics(datetime(2013,1,1),datetime(2013,12,31))\n",
    "    code2 = get_date_period_staticstics(datetime(2014,1,1),datetime(2014,12,31))\n",
    "    code3 = set(code1.index) & set(code2.index)\n",
    "    year_2_num = len(code3)\n",
    "    print '连续2年上涨股票数(获利股票数) :',year_2_num\n",
    "    print '连续2年上涨股票数比率 :',year_2_num / len(code1)\n",
    "    #--------------------------------------------------------\n",
    "    code1_gt_percent_5 =  code1[code1['profit_rate'] > 0.05]\n",
    "    code2_gt_percent_5 =  code2[code2['profit_rate'] > 0.05]\n",
    "    code3_gt_percent_5 =  set(code1_gt_percent_5.index) & set(code2_gt_percent_5.index)\n",
    "    print '连续2年上涨股票数(获利股票数 大于 5%) :',len(code3_gt_percent_5)\n",
    "    print '连续2年上涨股票数比率(获利大于 5%) :',len(code3_gt_percent_5) / len(code1)\n",
    "    #--------------------------------------------------------\n",
    "    code4 = code1.index[0:100]\n",
    "    code5 = code2.index[0:100]\n",
    "    code6 = set(code4) & set(code5)\n",
    "    year_2_num_from_100 = len(code6)\n",
    "    print '连续2年上涨股票数(Top 100) :',year_2_num_from_100\n",
    "    code7 = code1.index[0:200]\n",
    "    code8 = code2.index[0:200]\n",
    "    code9 = set(code7) & set(code8)\n",
    "    year_2_num_from_200 = len(code9)\n",
    "    print '连续2年上涨股票数(Top 200) :',year_2_num_from_200\n",
    "    code10 = code1.index[0:300]\n",
    "    code11 = code2.index[0:300]\n",
    "    code12 = set(code10) & set(code11)\n",
    "    year_2_num_from_300 = len(code12)\n",
    "    print '连续2年上涨股票数(Top 300) :',year_2_num_from_300\n",
    "    code13 = code1.index[0:400]\n",
    "    code14 = code2.index[0:400]\n",
    "    code15 = set(code13) & set(code14)\n",
    "    year_2_num_from_400 = len(code15)\n",
    "    print '连续2年上涨股票数(Top 400) :',year_2_num_from_400\n",
    "    code16 = code1.index[0:500]\n",
    "    code17 = code2.index[0:500]\n",
    "    code18 = set(code16) & set(code17)\n",
    "    year_2_num_from_500 = len(code18)\n",
    "    print '连续2年上涨股票数(Top 500) :',year_2_num_from_500\n",
    "    #\n",
    "    code_bing = pd.merge(code1,code2,left_index=True, right_index=True)\n",
    "    return (code_bing,code_bing[(code_bing['profit_rate_x'] > 0.05) & (code_bing['profit_rate_y'] > 0.05)])"
   ]
  },
  {
   "cell_type": "code",
   "execution_count": null,
   "metadata": {
    "collapsed": false
   },
   "outputs": [],
   "source": [
    "code_base_msg = load_stock_base_msg()\n",
    "code_profit_rate_ge_0, code_profit_rate_ge_5 = show_date_staticstics()\n",
    "code_profit_rate_ge_5 = code_profit_rate_ge_5[['profit_rate_x','profit_rate_y']]"
   ]
  },
  {
   "cell_type": "code",
   "execution_count": null,
   "metadata": {
    "collapsed": true
   },
   "outputs": [],
   "source": [
    "code_bing = pd.merge(code_base_msg,code_profit_rate_ge_5,left_index=True, right_index=True)"
   ]
  },
  {
   "cell_type": "code",
   "execution_count": null,
   "metadata": {
    "collapsed": false
   },
   "outputs": [],
   "source": [
    "code_bing.columns"
   ]
  },
  {
   "cell_type": "code",
   "execution_count": null,
   "metadata": {
    "collapsed": false
   },
   "outputs": [],
   "source": [
    "def trim_float_num(x):\n",
    "    #print type(x)\n",
    "    #print 'x=',x\n",
    "    xx = 0.000\n",
    "    if x is None:\n",
    "        xx = 0.000\n",
    "    else:\n",
    "        xx = float(str(x))\n",
    "    # print xx\n",
    "    if xx < 0.001:\n",
    "        return \"0.1 %\"\n",
    "    else:\n",
    "        ret = '%.1f' %(xx * 100.00)\n",
    "        return ret + ' %'"
   ]
  },
  {
   "cell_type": "code",
   "execution_count": null,
   "metadata": {
    "collapsed": false
   },
   "outputs": [],
   "source": [
    "trim_profit_rate_x = code_bing['profit_rate_x'].map(trim_float_num)\n",
    "code_bing['profit_rate_x'] = trim_profit_rate_x\n",
    "trim_profit_rate_y = code_bing['profit_rate_y'].map(trim_float_num)\n",
    "code_bing['profit_rate_y'] = trim_profit_rate_y"
   ]
  },
  {
   "cell_type": "code",
   "execution_count": null,
   "metadata": {
    "collapsed": false
   },
   "outputs": [],
   "source": [
    "code_bing"
   ]
  },
  {
   "cell_type": "code",
   "execution_count": null,
   "metadata": {
    "collapsed": false
   },
   "outputs": [],
   "source": [
    "code1,code_2,code_all = get_date_period_staticstics(datetime(2013,1,1),datetime(2013,12,31))"
   ]
  },
  {
   "cell_type": "code",
   "execution_count": null,
   "metadata": {
    "collapsed": false,
    "scrolled": false
   },
   "outputs": [],
   "source": [
    "code_all[code_all['code']==858]"
   ]
  },
  {
   "cell_type": "code",
   "execution_count": null,
   "metadata": {
    "collapsed": false
   },
   "outputs": [],
   "source": [
    "code2,code21,code2_all = get_date_period_staticstics(datetime(2014,1,1),datetime(2014,12,31))"
   ]
  },
  {
   "cell_type": "code",
   "execution_count": null,
   "metadata": {
    "collapsed": false,
    "scrolled": false
   },
   "outputs": [],
   "source": [
    "code2_all[code2_all['code']==858]"
   ]
  },
  {
   "cell_type": "code",
   "execution_count": null,
   "metadata": {
    "collapsed": false
   },
   "outputs": [],
   "source": [
    "code21.ix[858]"
   ]
  },
  {
   "cell_type": "code",
   "execution_count": null,
   "metadata": {
    "collapsed": true
   },
   "outputs": [],
   "source": []
  }
 ],
 "metadata": {
  "kernelspec": {
   "display_name": "Python 2",
   "language": "python",
   "name": "python2"
  },
  "language_info": {
   "codemirror_mode": {
    "name": "ipython",
    "version": 2
   },
   "file_extension": ".py",
   "mimetype": "text/x-python",
   "name": "python",
   "nbconvert_exporter": "python",
   "pygments_lexer": "ipython2",
   "version": "2.7.8"
  }
 },
 "nbformat": 4,
 "nbformat_minor": 0
}
