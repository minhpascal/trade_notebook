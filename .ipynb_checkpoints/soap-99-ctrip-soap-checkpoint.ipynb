{
 "cells": [
  {
   "cell_type": "code",
   "execution_count": 1,
   "metadata": {
    "collapsed": false
   },
   "outputs": [
    {
     "data": {
      "text/plain": [
       "u'E:\\\\project\\\\pychram\\\\trade_scripts'"
      ]
     },
     "execution_count": 1,
     "metadata": {},
     "output_type": "execute_result"
    }
   ],
   "source": [
    "# -*- coding: utf-8 -*- \n",
    "from suds.client import Client  \n",
    "\n",
    "%pwd"
   ]
  },
  {
   "cell_type": "code",
   "execution_count": 2,
   "metadata": {
    "collapsed": false
   },
   "outputs": [
    {
     "data": {
      "text/plain": [
       "<suds.client.Client at 0x319e3b0>"
      ]
     },
     "execution_count": 2,
     "metadata": {},
     "output_type": "execute_result"
    }
   ],
   "source": [
    "url = 'http://58.221.127.196:8090/Hotel/OTAReceive/HotelRatePlan.asmx?WSDL'  \n",
    "client = Client(url) \n",
    "client"
   ]
  },
  {
   "cell_type": "code",
   "execution_count": 3,
   "metadata": {
    "collapsed": false
   },
   "outputs": [
    {
     "name": "stdout",
     "output_type": "stream",
     "text": [
      "\n",
      "Suds ( https://fedorahosted.org/suds/ )  version: 0.4 GA  build: R699-20100913\n",
      "\n",
      "Service ( HotelRatePlan ) tns=\"http://www.opentravel.org/OTA/2003/05\"\n",
      "   Prefixes (1)\n",
      "      ns0 = \"http://www.opentravel.org/OTA/2003/05\"\n",
      "   Ports (2):\n",
      "      (HotelRatePlanSoap)\n",
      "         Methods (1):\n",
      "            Request(POS_Type POS, ArrayOfOTA_HotelRatePlanRQRatePlan RatePlans, )\n",
      "         Types (27):\n",
      "            AmountDeterminationType\n",
      "            ArrayOfHotelRatePlanTypeRate\n",
      "            ArrayOfHotelRef\n",
      "            ArrayOfOTA_HotelRatePlanRQRatePlan\n",
      "            ArrayOfRatePlanCandidate\n",
      "            ArrayOfRateUploadTypeBaseByGuestAmt\n",
      "            AvailabilityStatusType\n",
      "            CompanyNameType\n",
      "            DailyRateType\n",
      "            ErrorType\n",
      "            ErrorsType\n",
      "            ExtraPersonChargeType\n",
      "            FormattedTextTextType\n",
      "            FreeTextType\n",
      "            HotelRatePlanType\n",
      "            POS_Type\n",
      "            ParagraphType\n",
      "            RateUploadType\n",
      "            SourceType\n",
      "            SuccessType\n",
      "            TPA_ExtensionsType\n",
      "            TaxType\n",
      "            TaxesType\n",
      "            TotalType\n",
      "            UniqueID_Type\n",
      "            WarningType\n",
      "            WarningsType\n",
      "      (HotelRatePlanSoap12)\n",
      "         Methods (1):\n",
      "            Request(POS_Type POS, ArrayOfOTA_HotelRatePlanRQRatePlan RatePlans, )\n",
      "         Types (27):\n",
      "            AmountDeterminationType\n",
      "            ArrayOfHotelRatePlanTypeRate\n",
      "            ArrayOfHotelRef\n",
      "            ArrayOfOTA_HotelRatePlanRQRatePlan\n",
      "            ArrayOfRatePlanCandidate\n",
      "            ArrayOfRateUploadTypeBaseByGuestAmt\n",
      "            AvailabilityStatusType\n",
      "            CompanyNameType\n",
      "            DailyRateType\n",
      "            ErrorType\n",
      "            ErrorsType\n",
      "            ExtraPersonChargeType\n",
      "            FormattedTextTextType\n",
      "            FreeTextType\n",
      "            HotelRatePlanType\n",
      "            POS_Type\n",
      "            ParagraphType\n",
      "            RateUploadType\n",
      "            SourceType\n",
      "            SuccessType\n",
      "            TPA_ExtensionsType\n",
      "            TaxType\n",
      "            TaxesType\n",
      "            TotalType\n",
      "            UniqueID_Type\n",
      "            WarningType\n",
      "            WarningsType\n",
      "\n",
      "\n"
     ]
    }
   ],
   "source": [
    "print client"
   ]
  },
  {
   "cell_type": "code",
   "execution_count": 4,
   "metadata": {
    "collapsed": false
   },
   "outputs": [
    {
     "data": {
      "text/plain": [
       "(POS_Type){\n",
       "   Source = \n",
       "      (SourceType){\n",
       "         RequestorID = \n",
       "            (RequestorID){\n",
       "               _ID = \"\"\n",
       "               _Type = \"\"\n",
       "               CompanyName = \n",
       "                  (CompanyNameType){\n",
       "                     _Code = \"\"\n",
       "                     _CodeContext = \"\"\n",
       "                  }\n",
       "               _MessagePassword = \"\"\n",
       "            }\n",
       "      }\n",
       " }"
      ]
     },
     "execution_count": 4,
     "metadata": {},
     "output_type": "execute_result"
    }
   ],
   "source": [
    "pos_type1 = client.factory.create('POS_Type')\n",
    "pos_type1.Source.RequestorID.CompanyName._Code = '99trip'\n",
    "pos_type1.Source.RequestorID.CompanyName._CodeContext = '99trip cont'\n",
    "pos_type1.Source.RequestorID._ID = '11'\n",
    "pos_type1.Source.RequestorID._Type = 'C'\n",
    "pos_type1.Source.RequestorID._MessagePassword = '99ad'"
   ]
  },
  {
   "cell_type": "code",
   "execution_count": 7,
   "metadata": {
    "collapsed": true
   },
   "outputs": [],
   "source": [
    "array_rateplan1 = client.factory.create('ArrayOfOTA_HotelRatePlanRQRatePlan')  "
   ]
  },
  {
   "cell_type": "code",
   "execution_count": 16,
   "metadata": {
    "collapsed": false
   },
   "outputs": [
    {
     "data": {
      "text/plain": [
       "(ArrayOfRatePlanCandidate){\n",
       "   RatePlanCandidate[] = <empty>\n",
       " }"
      ]
     },
     "execution_count": 16,
     "metadata": {},
     "output_type": "execute_result"
    }
   ],
   "source": [
    "array_rateplancandidate1 = client.factory.create('ArrayOfRatePlanCandidate')  \n",
    "array_rateplancandidate1"
   ]
  },
  {
   "cell_type": "code",
   "execution_count": 17,
   "metadata": {
    "collapsed": false
   },
   "outputs": [
    {
     "name": "stderr",
     "output_type": "stream",
     "text": [
      "ERROR:suds.resolver:(RatePlanCandidate) not-found\n",
      "ERROR:suds.resolver:path: \"RatePlanCandidate\", not-found\n"
     ]
    },
    {
     "ename": "TypeNotFound",
     "evalue": "Type not found: 'RatePlanCandidate'",
     "output_type": "error",
     "traceback": [
      "\u001b[1;31m---------------------------------------------------------------------------\u001b[0m",
      "\u001b[1;31mTypeNotFound\u001b[0m                              Traceback (most recent call last)",
      "\u001b[1;32m<ipython-input-17-39427e44eb10>\u001b[0m in \u001b[0;36m<module>\u001b[1;34m()\u001b[0m\n\u001b[1;32m----> 1\u001b[1;33m \u001b[0mdate_range1\u001b[0m \u001b[1;33m=\u001b[0m \u001b[0mclient\u001b[0m\u001b[1;33m.\u001b[0m\u001b[0mfactory\u001b[0m\u001b[1;33m.\u001b[0m\u001b[0mcreate\u001b[0m\u001b[1;33m(\u001b[0m\u001b[1;34m'RatePlanCandidate'\u001b[0m\u001b[1;33m)\u001b[0m\u001b[1;33m\u001b[0m\u001b[0m\n\u001b[0m\u001b[0;32m      2\u001b[0m \u001b[0mdate_range1\u001b[0m\u001b[1;33m\u001b[0m\u001b[0m\n",
      "\u001b[1;32mc:\\Python\\Python27\\lib\\site-packages\\suds-0.4-py2.7.egg\\suds\\client.pyc\u001b[0m in \u001b[0;36mcreate\u001b[1;34m(self, name)\u001b[0m\n\u001b[0;32m    232\u001b[0m         \u001b[0mtype\u001b[0m \u001b[1;33m=\u001b[0m \u001b[0mself\u001b[0m\u001b[1;33m.\u001b[0m\u001b[0mresolver\u001b[0m\u001b[1;33m.\u001b[0m\u001b[0mfind\u001b[0m\u001b[1;33m(\u001b[0m\u001b[0mname\u001b[0m\u001b[1;33m)\u001b[0m\u001b[1;33m\u001b[0m\u001b[0m\n\u001b[0;32m    233\u001b[0m         \u001b[1;32mif\u001b[0m \u001b[0mtype\u001b[0m \u001b[1;32mis\u001b[0m \u001b[0mNone\u001b[0m\u001b[1;33m:\u001b[0m\u001b[1;33m\u001b[0m\u001b[0m\n\u001b[1;32m--> 234\u001b[1;33m             \u001b[1;32mraise\u001b[0m \u001b[0mTypeNotFound\u001b[0m\u001b[1;33m(\u001b[0m\u001b[0mname\u001b[0m\u001b[1;33m)\u001b[0m\u001b[1;33m\u001b[0m\u001b[0m\n\u001b[0m\u001b[0;32m    235\u001b[0m         \u001b[1;32mif\u001b[0m \u001b[0mtype\u001b[0m\u001b[1;33m.\u001b[0m\u001b[0menum\u001b[0m\u001b[1;33m(\u001b[0m\u001b[1;33m)\u001b[0m\u001b[1;33m:\u001b[0m\u001b[1;33m\u001b[0m\u001b[0m\n\u001b[0;32m    236\u001b[0m             \u001b[0mresult\u001b[0m \u001b[1;33m=\u001b[0m \u001b[0mInstFactory\u001b[0m\u001b[1;33m.\u001b[0m\u001b[0mobject\u001b[0m\u001b[1;33m(\u001b[0m\u001b[0mname\u001b[0m\u001b[1;33m)\u001b[0m\u001b[1;33m\u001b[0m\u001b[0m\n",
      "\u001b[1;31mTypeNotFound\u001b[0m: Type not found: 'RatePlanCandidate'"
     ]
    }
   ],
   "source": [
    "date_range1 = client.factory.create('RatePlanCandidate')  \n",
    "date_range1"
   ]
  },
  {
   "cell_type": "code",
   "execution_count": 10,
   "metadata": {
    "collapsed": false
   },
   "outputs": [
    {
     "data": {
      "text/plain": [
       "(SourceType){\n",
       "   RequestorID = \n",
       "      (RequestorID){\n",
       "         _ID = \"\"\n",
       "         _Type = \"\"\n",
       "         CompanyName = \n",
       "            (CompanyNameType){\n",
       "               _Code = \"\"\n",
       "               _CodeContext = \"\"\n",
       "            }\n",
       "         _MessagePassword = \"\"\n",
       "      }\n",
       " }"
      ]
     },
     "execution_count": 10,
     "metadata": {},
     "output_type": "execute_result"
    }
   ],
   "source": [
    "source_type1 = client.factory.create('SourceType')  \n",
    "source_type1"
   ]
  },
  {
   "cell_type": "code",
   "execution_count": 12,
   "metadata": {
    "collapsed": false
   },
   "outputs": [
    {
     "data": {
      "text/plain": [
       "(CompanyNameType){\n",
       "   _Code = \"\"\n",
       "   _CodeContext = \"\"\n",
       " }"
      ]
     },
     "execution_count": 12,
     "metadata": {},
     "output_type": "execute_result"
    }
   ],
   "source": [
    "companyname_ype1 = client.factory.create('CompanyNameType')  \n",
    "companyname_ype1"
   ]
  },
  {
   "cell_type": "code",
   "execution_count": 14,
   "metadata": {
    "collapsed": true
   },
   "outputs": [],
   "source": [
    "response1 = client.service.Request(pos_type1,array_rateplan1) "
   ]
  },
  {
   "cell_type": "code",
   "execution_count": 15,
   "metadata": {
    "collapsed": false
   },
   "outputs": [
    {
     "data": {
      "text/plain": [
       "(reply){\n",
       "   Errors = \n",
       "      (ErrorsType){\n",
       "         Error[] = \n",
       "            (Error){\n",
       "               value = \"The element 'OTA_HotelRatePlanRQ' in namespace 'http://www.opentravel.org/OTA/2003/05' has invalid child element 'RatePlans' in namespace 'http://www.opentravel.org/OTA/2003/05'. List of possible elements expected: 'POS' in namespace 'http://www.opentravel.org/OTA/2003/05'.\n",
       "\"\n",
       "               _ShortText = \"Invalid format\"\n",
       "               _Code = \"367\"\n",
       "               _Type = \"12\"\n",
       "            },\n",
       "      }\n",
       " }"
      ]
     },
     "execution_count": 15,
     "metadata": {},
     "output_type": "execute_result"
    }
   ],
   "source": [
    "response1"
   ]
  },
  {
   "cell_type": "code",
   "execution_count": null,
   "metadata": {
    "collapsed": true
   },
   "outputs": [],
   "source": []
  }
 ],
 "metadata": {
  "kernelspec": {
   "display_name": "Python 2",
   "language": "python",
   "name": "python2"
  },
  "language_info": {
   "codemirror_mode": {
    "name": "ipython",
    "version": 2
   },
   "file_extension": ".py",
   "mimetype": "text/x-python",
   "name": "python",
   "nbconvert_exporter": "python",
   "pygments_lexer": "ipython2",
   "version": "2.7.8"
  }
 },
 "nbformat": 4,
 "nbformat_minor": 0
}
