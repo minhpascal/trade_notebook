{
 "cells": [
  {
   "cell_type": "code",
   "execution_count": 1,
   "metadata": {
    "collapsed": false
   },
   "outputs": [
    {
     "data": {
      "text/plain": [
       "u'E:\\\\project\\\\pychram\\\\trade_scripts'"
      ]
     },
     "execution_count": 1,
     "metadata": {},
     "output_type": "execute_result"
    }
   ],
   "source": [
    "# -*- coding: utf-8 -*- \n",
    "from suds.client import Client  \n",
    "\n",
    "%pwd"
   ]
  },
  {
   "cell_type": "code",
   "execution_count": 2,
   "metadata": {
    "collapsed": false
   },
   "outputs": [
    {
     "data": {
      "text/plain": [
       "<suds.client.Client at 0x31333b0>"
      ]
     },
     "execution_count": 2,
     "metadata": {},
     "output_type": "execute_result"
    }
   ],
   "source": [
    "url = 'http://58.221.127.196:8090/Hotel/OTAReceive/HotelRatePlan.asmx'  \n",
    "client = Client(url) \n",
    "client"
   ]
  },
  {
   "cell_type": "code",
   "execution_count": 3,
   "metadata": {
    "collapsed": false
   },
   "outputs": [
    {
     "name": "stdout",
     "output_type": "stream",
     "text": [
      "\n",
      "Suds ( https://fedorahosted.org/suds/ )  version: 0.4 GA  build: R699-20100913\n",
      "\n",
      "Service ( MappleHotelService ) tns=\"https://travel.mapple.net/\"\n",
      "   Prefixes (1)\n",
      "      ns0 = \"https://travel.mapple.net/\"\n",
      "   Ports (1):\n",
      "      (MappleHotelPort)\n",
      "         Methods (6):\n",
      "            DetailFacility(DetailFacilityRequest DetailFacilityRequest, )\n",
      "            SearchDiff(SearchDiffRequest SearchDiffRequest, )\n",
      "            SearchFacility(SearchFacilityRequest SearchFacilityRequest, )\n",
      "            SearchPlan(SearchPlanRequest SearchPlanRequest, )\n",
      "            SearchReserve(SearchReserveRequest SearchReserveRequest, )\n",
      "            UpdateReserve(UpdateReserveRequest UpdateReserveRequest, )\n",
      "         Types (144):\n",
      "            AccessInfo\n",
      "            BabysitterInfo\n",
      "            BarrierfreeSupport\n",
      "            BathEquipmentInfo\n",
      "            BathImage\n",
      "            BathRoomInfo\n",
      "            BrandInfo\n",
      "            Businesstype\n",
      "            CalcPersonPriceInfo\n",
      "            CalcPrice\n",
      "            CalcPriceInfo\n",
      "            Calendar\n",
      "            CalendarList\n",
      "            CancelPay\n",
      "            CancelPrice\n",
      "            CancelPriceRequest\n",
      "            CancelPriceResponse\n",
      "            Capacity\n",
      "            ChildExplain\n",
      "            ChildSupport\n",
      "            CommissionInfo\n",
      "            ConveniInfo\n",
      "            CookImage\n",
      "            CookInfo\n",
      "            CookOption\n",
      "            CookType\n",
      "            DetailFacility\n",
      "            DetailFacilityRequest\n",
      "            DetailFacilityResponse\n",
      "            DetailMealOptInfo\n",
      "            District\n",
      "            EndReserve\n",
      "            Etc\n",
      "            Facilitie\n",
      "            FacilityDetail\n",
      "            FacilityDetailPriceRange\n",
      "            FacilityInfo\n",
      "            FacilityRoomInfo\n",
      "            FamilyBath\n",
      "            FamilyBathInfo\n",
      "            GaikanImage\n",
      "            GetDataList\n",
      "            GetPlanPriceRequest\n",
      "            GetPlanPriceResponse\n",
      "            GetVacancyRequest\n",
      "            GetVacancyResponse\n",
      "            JimanBathInfo\n",
      "            KannaiImage\n",
      "            KannaiInfo\n",
      "            LanguageSupport\n",
      "            LargeBath\n",
      "            LargeBathInfo\n",
      "            LaundryInfo\n",
      "            MassageInfo\n",
      "            Meal\n",
      "            MealGenre\n",
      "            MealOpt\n",
      "            MealOptInfo\n",
      "            MemberInfo\n",
      "            NaturalHotSpringInfo\n",
      "            OpenBath\n",
      "            OpenBathInfo\n",
      "            ParkingInfo\n",
      "            PartnerInfo\n",
      "            PaymentInfo\n",
      "            Period\n",
      "            PersonCharge\n",
      "            PersonInfo\n",
      "            PersonPriceInfo\n",
      "            PersonsInfo\n",
      "            PetInfo\n",
      "            Place\n",
      "            PlanDetailFacilityInfo\n",
      "            PlanImage\n",
      "            PlanInfo\n",
      "            PlanPriceCalendar\n",
      "            PlanPriceCalendarList\n",
      "            PlanTerm\n",
      "            Pref\n",
      "            PriceList\n",
      "            PriceRange\n",
      "            PriceTable\n",
      "            Recreation\n",
      "            ReserveInfo\n",
      "            ReservePlanInfo\n",
      "            ReserveUserInfo\n",
      "            ResponseDetail\n",
      "            ResponseInfo\n",
      "            Restaurant\n",
      "            Room\n",
      "            RoomAmenity\n",
      "            RoomCalcPrice\n",
      "            RoomCharge\n",
      "            RoomDiv\n",
      "            RoomEquipment\n",
      "            RoomInfo\n",
      "            RoomInternetAccess\n",
      "            RoomPersonInfo\n",
      "            RoomPriceTable\n",
      "            RoomServiceInfo\n",
      "            RoomtypeInfo\n",
      "            Sauna\n",
      "            SaunaInfo\n",
      "            Schedule\n",
      "            SearchDiffFacilityInfo\n",
      "            SearchDiffPlanInfo\n",
      "            SearchDiffRequest\n",
      "            SearchDiffResponse\n",
      "            SearchDiffSearchInfo\n",
      "            SearchFacility\n",
      "            SearchFacilityRequest\n",
      "            SearchFacilityResponse\n",
      "            SearchInfo\n",
      "            SearchPlan\n",
      "            SearchPlanFacilityInfo\n",
      "            SearchPlanRequest\n",
      "            SearchPlanResponse\n",
      "            SearchReserve\n",
      "            SearchReserveFacilityInfo\n",
      "            SearchReserveRequest\n",
      "            SearchReserveResponse\n",
      "            SearchType\n",
      "            Shop\n",
      "            SpaeffectInfo\n",
      "            SpaqualityInfo\n",
      "            SpecialRates\n",
      "            Sport\n",
      "            StayInfo\n",
      "            TaxInfo\n",
      "            TemperatureInfo\n",
      "            Term\n",
      "            TermMonth\n",
      "            Time\n",
      "            TotalInfo\n",
      "            UpdateMealOptInfo\n",
      "            UpdatePersonInfo\n",
      "            UpdateReserve\n",
      "            UpdateReserveInfo\n",
      "            UpdateReserveRequest\n",
      "            UpdateReserveResponse\n",
      "            UpdateRoomInfo\n",
      "            UserInfo\n",
      "            ViewInfo\n",
      "            WifiInfo\n",
      "\n",
      "\n"
     ]
    }
   ],
   "source": [
    "print client"
   ]
  },
  {
   "cell_type": "code",
   "execution_count": 5,
   "metadata": {
    "collapsed": false
   },
   "outputs": [
    {
     "data": {
      "text/plain": [
       "(DetailFacilityRequest){\n",
       "   PartnerInfo = \n",
       "      (PartnerInfo){\n",
       "         p_id = None\n",
       "         p_pass = None\n",
       "      }\n",
       "   DetailFacility = \n",
       "      (DetailFacility){\n",
       "         faccode = None\n",
       "      }\n",
       " }"
      ]
     },
     "execution_count": 5,
     "metadata": {},
     "output_type": "execute_result"
    }
   ],
   "source": [
    "request1 = client.factory.create('DetailFacilityRequest')\n",
    "request1"
   ]
  },
  {
   "cell_type": "code",
   "execution_count": null,
   "metadata": {
    "collapsed": true
   },
   "outputs": [],
   "source": [
    "partnerinfo = client.factory.create('PartnerInfo')  \n",
    "partnerinfo.p_id='mapple'\n",
    "partnerinfo.p_pass='mt1015'\n",
    "detailfacility = client.factory.create('DetailFacility')  \n",
    "detailfacility.faccode=48811\n"
   ]
  },
  {
   "cell_type": "code",
   "execution_count": null,
   "metadata": {
    "collapsed": false
   },
   "outputs": [],
   "source": [
    "partnerinfo"
   ]
  },
  {
   "cell_type": "code",
   "execution_count": null,
   "metadata": {
    "collapsed": false
   },
   "outputs": [],
   "source": [
    "detailfacility"
   ]
  },
  {
   "cell_type": "code",
   "execution_count": null,
   "metadata": {
    "collapsed": false
   },
   "outputs": [],
   "source": [
    "request1.PartnerInfo = partnerinfo\n",
    "request1.DetailFacility = detailfacility\n",
    "request1"
   ]
  },
  {
   "cell_type": "code",
   "execution_count": null,
   "metadata": {
    "collapsed": false
   },
   "outputs": [],
   "source": [
    "response1 = client.factory.create('DetailFacilityResponse')\n",
    "response1\n",
    " \n"
   ]
  },
  {
   "cell_type": "code",
   "execution_count": null,
   "metadata": {
    "collapsed": false
   },
   "outputs": [],
   "source": [
    "response1 = client.service.DetailFacility(request1) "
   ]
  },
  {
   "cell_type": "code",
   "execution_count": 4,
   "metadata": {
    "collapsed": false
   },
   "outputs": [
    {
     "data": {
      "text/plain": [
       "(SearchDiffRequest){\n",
       "   PartnerInfo = \n",
       "      (PartnerInfo){\n",
       "         p_id = None\n",
       "         p_pass = None\n",
       "      }\n",
       "   SearchInfo = \n",
       "      (SearchDiffSearchInfo){\n",
       "         page = None\n",
       "         limit = None\n",
       "      }\n",
       "   SearchType = \n",
       "      (SearchType){\n",
       "         type = None\n",
       "         termstart = None\n",
       "         termend = None\n",
       "         enableonly = None\n",
       "      }\n",
       " }"
      ]
     },
     "execution_count": 4,
     "metadata": {},
     "output_type": "execute_result"
    }
   ],
   "source": [
    "\n",
    "request2 = client.factory.create('SearchDiffRequest')\n",
    "request2"
   ]
  },
  {
   "cell_type": "code",
   "execution_count": null,
   "metadata": {
    "collapsed": true
   },
   "outputs": [],
   "source": []
  }
 ],
 "metadata": {
  "kernelspec": {
   "display_name": "Python 2",
   "language": "python",
   "name": "python2"
  },
  "language_info": {
   "codemirror_mode": {
    "name": "ipython",
    "version": 2
   },
   "file_extension": ".py",
   "mimetype": "text/x-python",
   "name": "python",
   "nbconvert_exporter": "python",
   "pygments_lexer": "ipython2",
   "version": "2.7.8"
  }
 },
 "nbformat": 4,
 "nbformat_minor": 0
}
