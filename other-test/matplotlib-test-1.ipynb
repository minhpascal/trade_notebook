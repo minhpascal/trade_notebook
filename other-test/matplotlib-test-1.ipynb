{
 "cells": [
  {
   "cell_type": "code",
   "execution_count": 1,
   "metadata": {
    "collapsed": true
   },
   "outputs": [],
   "source": [
    "from pylab import *"
   ]
  },
  {
   "cell_type": "code",
   "execution_count": 5,
   "metadata": {
    "collapsed": false
   },
   "outputs": [],
   "source": [
    "def sub1():\n",
    "    X = np.linspace(-np.pi, np.pi, 256,endpoint=True)\n",
    "    C,S = np.cos(X), np.sin(X)\n",
    "    plot(X,C)\n",
    "    plot(X,S)\n",
    "    show()"
   ]
  },
  {
   "cell_type": "code",
   "execution_count": 7,
   "metadata": {
    "collapsed": false
   },
   "outputs": [],
   "source": [
    "def sub2():\n",
    "    # Import everything from matplotlib (numpy is accessible via 'np' alias)\n",
    "    #from pylab import *\n",
    "\n",
    "    # Create a new figure of size 8x6 points, using 80 dots per inch\n",
    "    figure(figsize=(8,6), dpi=80)\n",
    "\n",
    "    # Create a new subplot from a grid of 1x1\n",
    "    subplot(1,1,1)\n",
    "\n",
    "    X = np.linspace(-np.pi, np.pi, 256,endpoint=True)\n",
    "    C,S = np.cos(X), np.sin(X)\n",
    "\n",
    "    # Plot cosine using blue color with a continuous line of width 1 (pixels)\n",
    "    plot(X, C, color=\"blue\", linewidth=1.0, linestyle=\"-\")\n",
    "\n",
    "    # Plot sine using green color with a continuous line of width 1 (pixels)\n",
    "    plot(X, S, color=\"green\", linewidth=1.0, linestyle=\"-\")\n",
    "\n",
    "    # Set x limits\n",
    "    xlim(-4.0,4.0)\n",
    "\n",
    "    # Set x ticks\n",
    "    xticks(np.linspace(-4,4,9,endpoint=True))\n",
    "\n",
    "    # Set y limits\n",
    "    ylim(-1.0,1.0)\n",
    "\n",
    "    # Set y ticks\n",
    "    yticks(np.linspace(-1,1,5,endpoint=True))\n",
    "\n",
    "    # Save figure using 72 dots per inch\n",
    "    # savefig(\"exercice_2.png\",dpi=72)\n",
    "\n",
    "    # Show result on screen\n",
    "    show()"
   ]
  },
  {
   "cell_type": "code",
   "execution_count": 25,
   "metadata": {
    "collapsed": true
   },
   "outputs": [],
   "source": [
    "def sub3():\n",
    "    # Import everything from matplotlib (numpy is accessible via 'np' alias)\n",
    "    #from pylab import *\n",
    "\n",
    "    # Create a new figure of size 8x6 points, using 80 dots per inch\n",
    "    #figure(figsize=(8,6), dpi=80)\n",
    "    figure(figsize=(10,6), dpi=80)\n",
    "\n",
    "    # Create a new subplot from a grid of 1x1\n",
    "    subplot(1,1,1)\n",
    "\n",
    "    X = np.linspace(-np.pi, np.pi, 256,endpoint=True)\n",
    "    C,S = np.cos(X), np.sin(X)\n",
    "\n",
    "    # Plot cosine using blue color with a continuous line of width 1 (pixels)\n",
    "    #plot(X, C, color=\"blue\", linewidth=1.0, linestyle=\"-\")\n",
    "\n",
    "    # Plot sine using green color with a continuous line of width 1 (pixels)\n",
    "    #plot(X, S, color=\"green\", linewidth=1.0, linestyle=\"-\")\n",
    "\n",
    "    #plot(X, C, color=\"blue\", linewidth=2.5, linestyle=\"-\")\n",
    "    #plot(X, S, color=\"red\",  linewidth=2.5, linestyle=\"-\")\n",
    "    plot(X, C, color=\"blue\", linewidth=2.5, linestyle=\"-\", label=\"cosine\")\n",
    "    plot(X, S, color=\"red\",  linewidth=2.5, linestyle=\"-\", label=\"sine\")\n",
    "\n",
    "    legend(loc='upper left')\n",
    "\n",
    "    # Set x limits\n",
    "    #xlim(-4.0,4.0)\n",
    "    xlim(X.min()*1.1, X.max()*1.1)\n",
    "\n",
    "    # Set x ticks\n",
    "    #xticks(np.linspace(-4,4,9,endpoint=True))\n",
    "    #xticks( [-np.pi, -np.pi/2, 0, np.pi/2, np.pi])\n",
    "    xticks([-np.pi, -np.pi/2, 0, np.pi/2, np.pi],\n",
    "       [r'$-\\pi$', r'$-\\pi/2$', r'$0$', r'$+\\pi/2$', r'$+\\pi$'])\n",
    "\n",
    "    # Set y limits\n",
    "    #ylim(-1.0,1.0)\n",
    "    ylim(C.min()*1.1, C.max()*1.1)\n",
    "\n",
    "    # Set y ticks\n",
    "    #yticks(np.linspace(-1,1,5,endpoint=True))\n",
    "    #yticks([-1, 0, +1])\n",
    "    yticks([-1, 0, +1],\n",
    "       [r'$-1$', r'$0$', r'$+1$'])\n",
    "\n",
    "    # move spin\n",
    "    ax = gca()\n",
    "    ax.spines['right'].set_color('none')\n",
    "    ax.spines['top'].set_color('none')\n",
    "    ax.xaxis.set_ticks_position('bottom')\n",
    "    ax.spines['bottom'].set_position(('data',0))\n",
    "    ax.yaxis.set_ticks_position('left')\n",
    "    ax.spines['left'].set_position(('data',0))\n",
    "    \n",
    "    # some points\n",
    "    t = 2*np.pi/3\n",
    "    plot([t,t],[0,np.cos(t)], color ='blue', linewidth=2.5, linestyle=\"--\")\n",
    "    scatter([t,],[np.cos(t),], 50, color ='blue')\n",
    "\n",
    "    annotate(r'$sin(\\frac{2\\pi}{3})=\\frac{\\sqrt{3}}{2}$',\n",
    "         xy=(t, np.sin(t)), xycoords='data',\n",
    "         xytext=(+10, +30), textcoords='offset points', fontsize=16,\n",
    "         arrowprops=dict(arrowstyle=\"->\", connectionstyle=\"arc3,rad=.2\"))\n",
    "\n",
    "    plot([t,t],[0,np.sin(t)], color ='red', linewidth=2.5, linestyle=\"--\")\n",
    "    scatter([t,],[np.sin(t),], 50, color ='red')\n",
    "\n",
    "    annotate(r'$cos(\\frac{2\\pi}{3})=-\\frac{1}{2}$',\n",
    "         xy=(t, np.cos(t)), xycoords='data',\n",
    "         xytext=(-90, -50), textcoords='offset points', fontsize=16,\n",
    "         arrowprops=dict(arrowstyle=\"->\", connectionstyle=\"arc3,rad=.2\"))\n",
    "    \n",
    "    # adjust label\n",
    "    for label in ax.get_xticklabels() + ax.get_yticklabels():\n",
    "        label.set_fontsize(16)\n",
    "        label.set_bbox(dict(facecolor='white', edgecolor='None', alpha=0.65 ))\n",
    "    # Save figure using 72 dots per inch\n",
    "    # savefig(\"exercice_2.png\",dpi=72)\n",
    "\n",
    "    # Show result on screen\n",
    "    show()"
   ]
  },
  {
   "cell_type": "code",
   "execution_count": 8,
   "metadata": {
    "collapsed": false
   },
   "outputs": [],
   "source": [
    "sub1()"
   ]
  },
  {
   "cell_type": "code",
   "execution_count": 9,
   "metadata": {
    "collapsed": true
   },
   "outputs": [],
   "source": [
    "sub2()"
   ]
  },
  {
   "cell_type": "code",
   "execution_count": 26,
   "metadata": {
    "collapsed": false
   },
   "outputs": [],
   "source": [
    "sub3()"
   ]
  },
  {
   "cell_type": "code",
   "execution_count": null,
   "metadata": {
    "collapsed": true
   },
   "outputs": [],
   "source": [
    "def sub4():\n",
    "    #from pylab import *\n",
    "\n",
    "    n = 256\n",
    "    X = np.linspace(-np.pi,np.pi,n,endpoint=True)\n",
    "    Y = np.sin(2*X)\n",
    "\n",
    "    plot (X, Y+1, color='blue', alpha=1.00)\n",
    "    plot (X, Y-1, color='blue', alpha=1.00)\n",
    "    show()\n",
    "    \n",
    "    import numpy as np\n",
    "    import matplotlib.pyplot as plt\n",
    "\n",
    "    n = 256\n",
    "    X = np.linspace(-np.pi,np.pi,n,endpoint=True)\n",
    "    Y = np.sin(2*X)\n",
    "\n",
    "    plt.axes([0.025,0.025,0.95,0.95])\n",
    "\n",
    "    plt.plot (X, Y+1, color='blue', alpha=1.00)\n",
    "    plt.fill_between(X, 1, Y+1, color='blue', alpha=.25)\n",
    "\n",
    "    plt.plot (X, Y-1, color='blue', alpha=1.00)\n",
    "    plt.fill_between(X, -1, Y-1, (Y-1) > -1, color='blue', alpha=.25)\n",
    "    plt.fill_between(X, -1, Y-1, (Y-1) < -1, color='red',  alpha=.25)\n",
    "\n",
    "    plt.xlim(-np.pi,np.pi), plt.xticks([])\n",
    "    plt.ylim(-2.5,2.5), plt.yticks([])\n",
    "    # savefig('../figures/plot_ex.png',dpi=48)\n",
    "    plt.show()"
   ]
  },
  {
   "cell_type": "code",
   "execution_count": 28,
   "metadata": {
    "collapsed": true
   },
   "outputs": [],
   "source": [
    "sub4()"
   ]
  },
  {
   "cell_type": "code",
   "execution_count": null,
   "metadata": {
    "collapsed": true
   },
   "outputs": [],
   "source": []
  }
 ],
 "metadata": {
  "kernelspec": {
   "display_name": "Python 2",
   "language": "python",
   "name": "python2"
  },
  "language_info": {
   "codemirror_mode": {
    "name": "ipython",
    "version": 2
   },
   "file_extension": ".py",
   "mimetype": "text/x-python",
   "name": "python",
   "nbconvert_exporter": "python",
   "pygments_lexer": "ipython2",
   "version": "2.7.8"
  }
 },
 "nbformat": 4,
 "nbformat_minor": 0
}
