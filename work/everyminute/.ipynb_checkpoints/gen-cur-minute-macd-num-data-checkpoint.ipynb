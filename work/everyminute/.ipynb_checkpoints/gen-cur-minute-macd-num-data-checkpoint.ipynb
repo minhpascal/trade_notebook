{
 "cells": [
  {
   "cell_type": "code",
   "execution_count": 1,
   "metadata": {
    "collapsed": false
   },
   "outputs": [],
   "source": [
    "from __future__ import division\n",
    "from numpy.random import randn\n",
    "from pandas import Series\n",
    "import numpy as np\n",
    "import pandas as pd\n",
    "import os\n",
    "import time;\n",
    "import datetime  \n",
    "import redis\n",
    "np.set_printoptions(precision=4)\n",
    "import sys; \n",
    "#%pwd"
   ]
  },
  {
   "cell_type": "code",
   "execution_count": 2,
   "metadata": {
    "collapsed": true
   },
   "outputs": [],
   "source": [
    "# input CSV数据文件\n",
    "input_stock_data_cvs = 'E:/project/pychram/traderesp/base/input-csv/end-is-today-stock-ema12-ema26-macd/end-is-today-stock-ema12-ema26-macd.csv'\n",
    "output_macd_date_path = 'E:/project/pychram/traderesp/base/output-csv/work/everyday/'"
   ]
  },
  {
   "cell_type": "code",
   "execution_count": 3,
   "metadata": {
    "collapsed": false
   },
   "outputs": [],
   "source": [
    "def get_cur_day():\n",
    "    cur_day = datetime.datetime.now() \n",
    "    cur_day_str = cur_day.strftime('%Y-%m-%d'); \n",
    "    cur_day_trim_str = cur_day.strftime('%Y%m%d');\n",
    "    cur_minute = cur_day.strftime('%Y-%m-%d %H:%M:%S'); \n",
    "    return cur_day,cur_day_str,cur_day_trim_str,cur_minute"
   ]
  },
  {
   "cell_type": "code",
   "execution_count": 4,
   "metadata": {
    "collapsed": false
   },
   "outputs": [],
   "source": [
    "def write_macd_num_to_file(num1,num2):\n",
    "    global output_macd_date_path\n",
    "    cur_day,cur_day_str,cur_day_trim_str,cur_minute = get_cur_day()\n",
    "    output_file_dir = output_macd_date_path + cur_day_str;\n",
    "    print output_file_dir\n",
    "    if os.path.isdir(output_file_dir) == False:\n",
    "        os.mkdir(output_file_dir)  \n",
    "    output_file_file_name = output_file_dir + \"/minute.txt\"\n",
    "    with open(output_file_file_name,'a') as handle:\n",
    "        handle.writelines(str(cur_minute) + \",\" + str(num1) + \",\" + str(num2) + \"\\n\")\n",
    "        handle.close()\n",
    "    "
   ]
  },
  {
   "cell_type": "code",
   "execution_count": 5,
   "metadata": {
    "collapsed": false
   },
   "outputs": [],
   "source": [
    "def load_prev_days_macds_data():\n",
    "    global input_stock_data_cvs\n",
    "    stock_data = pd.read_csv(input_stock_data_cvs,parse_dates=[0],encoding='gbk')\n",
    "    stock_data = stock_data[['date','code','ema_12','ema_26','dea']]\n",
    "    return stock_data"
   ]
  },
  {
   "cell_type": "code",
   "execution_count": 6,
   "metadata": {
    "collapsed": true
   },
   "outputs": [],
   "source": [
    "def load_minute_data_from_redis():\n",
    "    r = redis.StrictRedis(host='localhost',port=6379,db=0)\n",
    "    cur_day,cur_day_str,cur_day_trim_str,cur_minute = get_cur_day()\n",
    "    cur_minute_price = r.hgetall('day:' + cur_day_trim_str)\n",
    "    cur_minute_price_dict = {int(key) : (float(cur_minute_price[key]) / 10000) if int(cur_minute_price[key]) != 0 else np.nan for key in cur_minute_price }\n",
    "    cur_minute_price_series = pd.Series(cur_minute_price_dict)\n",
    "    cur_minute_stock_dataframe = pd.DataFrame(cur_minute_price_series)\n",
    "    cur_minute_stock_dataframe.columns=['price']\n",
    "    cur_minute_stock_dataframe = cur_minute_stock_dataframe.dropna()\n",
    "    #\n",
    "    return cur_minute_stock_dataframe"
   ]
  },
  {
   "cell_type": "code",
   "execution_count": 25,
   "metadata": {
    "collapsed": true
   },
   "outputs": [],
   "source": [
    "def calc_macd_data(last_data,minute_data):\n",
    "    bing_stock = pd.merge(last_data,minute_data,left_on='code',right_index=True)\n",
    "    bing_stock = bing_stock.dropna()\n",
    "    #EMA（12）= 前一日EMA（12）×11/13＋今日收盘价×2/13\n",
    "    #EMA（26）= 前一日EMA（26）×25/27＋今日收盘价×2/27\n",
    "    #DIFF=今日EMA（12）- 今日EMA（26）\n",
    "    #DEA（MACD）= 前一日DEA×8/10＋今日DIF×2/10 \n",
    "    #BAR=2×(DIFF－DEA)\n",
    "    bing_stock['ema_cur_12'] = bing_stock['ema_12'] * 11/13 + bing_stock['price']*2/13\n",
    "    bing_stock['ema_cur_26'] = bing_stock['ema_26'] * 25/27 + bing_stock['price']*2/27\n",
    "    bing_stock['cur_diff'] = bing_stock['ema_cur_12'] - bing_stock['ema_cur_26']\n",
    "    bing_stock['cur_dea'] = bing_stock['dea'] * 8/10 + bing_stock['cur_diff'] * 2/10\n",
    "    bing_stock['cur_macd'] = 2*(bing_stock['cur_diff'] - bing_stock['cur_dea'])\n",
    "    #\n",
    "    cur_macd_num = bing_stock[bing_stock['cur_macd'] > 0.0].count()['code']\n",
    "    \n",
    "    cur_zhcd_num = bing_stock[(bing_stock['cur_diff'] > 0.0) & (bing_stock['cur_dea'] > 0.0) & (bing_stock['cur_macd'] > 0.0)].count()['code']\n",
    "    print cur_zhcd_num\n",
    "    return cur_macd_num,cur_zhcd_num"
   ]
  },
  {
   "cell_type": "code",
   "execution_count": 26,
   "metadata": {
    "collapsed": false
   },
   "outputs": [],
   "source": [
    "def run():\n",
    "    while True:\n",
    "        tm = datetime.datetime.now()\n",
    "        abeg = datetime.datetime(tm.year,tm.month,tm.day,9,30,0)\n",
    "        aend = datetime.datetime(tm.year,tm.month,tm.day,11,30,0)\n",
    "        bbeg = datetime.datetime(tm.year,tm.month,tm.day,13,0,0)\n",
    "        bend = datetime.datetime(tm.year,tm.month,tm.day,15,0,0)\n",
    "        if (tm > abeg and tm < aend) or (tm > bbeg and tm < bend) :\n",
    "            last_data = load_prev_days_macds_data();\n",
    "            minute_data = load_minute_data_from_redis();\n",
    "            cur_diff_num,cur_dea_num = calc_macd_data(last_data,minute_data)\n",
    "            print tm,cur_diff_num,cur_dea_num\n",
    "            write_macd_num_to_file( cur_diff_num,cur_dea_num)\n",
    "        else:\n",
    "            print tm,\"market closed.\"\n",
    "        time.sleep(1)"
   ]
  },
  {
   "cell_type": "code",
   "execution_count": 27,
   "metadata": {
    "collapsed": false
   },
   "outputs": [
    {
     "name": "stdout",
     "output_type": "stream",
     "text": [
      "1171\n",
      "2015-12-25 14:14:21.140000 1697 1171\n",
      "E:/project/pychram/traderesp/base/output-csv/work/everyday/2015-12-25\n"
     ]
    }
   ],
   "source": [
    "run()"
   ]
  }
 ],
 "metadata": {
  "kernelspec": {
   "display_name": "Python 2",
   "language": "python",
   "name": "python2"
  },
  "language_info": {
   "codemirror_mode": {
    "name": "ipython",
    "version": 2
   },
   "file_extension": ".py",
   "mimetype": "text/x-python",
   "name": "python",
   "nbconvert_exporter": "python",
   "pygments_lexer": "ipython2",
   "version": "2.7.8"
  }
 },
 "nbformat": 4,
 "nbformat_minor": 0
}
