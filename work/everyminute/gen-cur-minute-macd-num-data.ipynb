{
 "cells": [
  {
   "cell_type": "code",
   "execution_count": null,
   "metadata": {
    "collapsed": false
   },
   "outputs": [],
   "source": [
    "from __future__ import division\n",
    "from numpy.random import randn\n",
    "from pandas import Series\n",
    "import numpy as np\n",
    "import pandas as pd\n",
    "import os\n",
    "import time;\n",
    "import datetime  \n",
    "import redis\n",
    "np.set_printoptions(precision=4)\n",
    "import sys; \n",
    "#%pwd"
   ]
  },
  {
   "cell_type": "code",
   "execution_count": null,
   "metadata": {
    "collapsed": true
   },
   "outputs": [],
   "source": [
    "config_parms = {\n",
    "    'input_stock_macd_data_file_name' : 'E:/project/pychram/traderesp/base/input-csv/end-is-today-stock-ema12-ema26-macd/end-is-today-stock-ema12-ema26-macd.csv',\n",
    "    'minute_file_path' : 'E:/project/pychram/traderesp/base/output-csv/work/everyday/',\n",
    "    'minute_file_name' : 'minute.txt',\n",
    "    'redis_host' : 'localhost',\n",
    "    'redis_port' : 6379,\n",
    "    'redis_db'   : 0\n",
    "    \n",
    "}"
   ]
  },
  {
   "cell_type": "code",
   "execution_count": null,
   "metadata": {
    "collapsed": false
   },
   "outputs": [],
   "source": [
    "# 得到当前时间串\n",
    "def get_cur_day():\n",
    "    cur_day = datetime.datetime.now() \n",
    "    cur_day_str = cur_day.strftime('%Y-%m-%d'); \n",
    "    cur_day_trim_str = cur_day.strftime('%Y%m%d');\n",
    "    cur_minute = cur_day.strftime('%Y-%m-%d %H:%M:%S'); \n",
    "    return cur_day,cur_day_str,cur_day_trim_str,cur_minute"
   ]
  },
  {
   "cell_type": "code",
   "execution_count": null,
   "metadata": {
    "collapsed": false
   },
   "outputs": [],
   "source": [
    "# 计算 MACD 数量并写入文件\n",
    "def write_macd_num_to_file(num1,num2,minute_file_path,minute_file_name):\n",
    "    cur_day,cur_day_str,cur_day_trim_str,cur_minute = get_cur_day()\n",
    "    output_file_dir = minute_file_path + cur_day_str;\n",
    "    print output_file_dir\n",
    "    if os.path.isdir(output_file_dir) == False:\n",
    "        os.mkdir(output_file_dir)  \n",
    "    output_file_file_name = output_file_dir + \"/\" + minute_file_name\n",
    "    with open(output_file_file_name,'a') as handle:\n",
    "        handle.writelines(str(cur_minute) + \",\" + str(num1) + \",\" + str(num2) + \"\\n\")\n",
    "        handle.close()\n",
    "    "
   ]
  },
  {
   "cell_type": "code",
   "execution_count": null,
   "metadata": {
    "collapsed": false
   },
   "outputs": [],
   "source": [
    "# 加载 prev day 数据\n",
    "def load_prev_days_macds_data(macd_csv_file):\n",
    "    stock_data = pd.read_csv(macd_csv_file,parse_dates=[0],encoding='gbk')\n",
    "    stock_data = stock_data[['date','code','ema_12','ema_26','dea']]\n",
    "    return stock_data"
   ]
  },
  {
   "cell_type": "code",
   "execution_count": null,
   "metadata": {
    "collapsed": true
   },
   "outputs": [],
   "source": [
    "#从 Redis 中加载当前数据\n",
    "def load_minute_data_from_redis(redis_host,redis_port,redis_db):\n",
    "    r = redis.StrictRedis(host=redis_host,port=redis_port,db=redis_db)\n",
    "    cur_day,cur_day_str,cur_day_trim_str,cur_minute = get_cur_day()\n",
    "    cur_minute_price = r.hgetall('day:' + cur_day_trim_str)\n",
    "    cur_minute_price_dict = {int(key) : (float(cur_minute_price[key]) / 10000) if int(cur_minute_price[key]) != 0 else np.nan for key in cur_minute_price }\n",
    "    cur_minute_price_series = pd.Series(cur_minute_price_dict)\n",
    "    cur_minute_stock_dataframe = pd.DataFrame(cur_minute_price_series)\n",
    "    cur_minute_stock_dataframe.columns=['price']\n",
    "    cur_minute_stock_dataframe = cur_minute_stock_dataframe.dropna()\n",
    "    #\n",
    "    return cur_minute_stock_dataframe"
   ]
  },
  {
   "cell_type": "code",
   "execution_count": null,
   "metadata": {
    "collapsed": true
   },
   "outputs": [],
   "source": [
    "def calc_macd_data(last_data,minute_data):\n",
    "    bing_stock = pd.merge(last_data,minute_data,left_on='code',right_index=True)\n",
    "    bing_stock = bing_stock.dropna()\n",
    "    #EMA（12）= 前一日EMA（12）×11/13＋今日收盘价×2/13\n",
    "    #EMA（26）= 前一日EMA（26）×25/27＋今日收盘价×2/27\n",
    "    #DIFF=今日EMA（12）- 今日EMA（26）\n",
    "    #DEA（MACD）= 前一日DEA×8/10＋今日DIF×2/10 \n",
    "    #BAR=2×(DIFF－DEA)\n",
    "    bing_stock['ema_cur_12'] = bing_stock['ema_12'] * 11/13 + bing_stock['price']*2/13\n",
    "    bing_stock['ema_cur_26'] = bing_stock['ema_26'] * 25/27 + bing_stock['price']*2/27\n",
    "    bing_stock['cur_diff'] = bing_stock['ema_cur_12'] - bing_stock['ema_cur_26']\n",
    "    bing_stock['cur_dea'] = bing_stock['dea'] * 8/10 + bing_stock['cur_diff'] * 2/10\n",
    "    bing_stock['cur_macd'] = 2*(bing_stock['cur_diff'] - bing_stock['cur_dea'])\n",
    "    #\n",
    "    cur_macd_num = bing_stock[bing_stock['cur_macd'] > 0.0].count()['code']\n",
    "    \n",
    "    cur_zhcd_num = bing_stock[(bing_stock['cur_diff'] > 0.0) & (bing_stock['cur_dea'] > 0.0) & (bing_stock['cur_macd'] > 0.0)].count()['code']\n",
    "    print cur_zhcd_num\n",
    "    return cur_macd_num,cur_zhcd_num"
   ]
  },
  {
   "cell_type": "code",
   "execution_count": null,
   "metadata": {
    "collapsed": false
   },
   "outputs": [],
   "source": [
    "def run(conf):\n",
    "    while True:\n",
    "        tm = datetime.datetime.now()\n",
    "        abeg = datetime.datetime(tm.year,tm.month,tm.day,9,30,0)\n",
    "        aend = datetime.datetime(tm.year,tm.month,tm.day,11,30,0)\n",
    "        bbeg = datetime.datetime(tm.year,tm.month,tm.day,13,0,0)\n",
    "        bend = datetime.datetime(tm.year,tm.month,tm.day,15,0,0)\n",
    "        if (tm > abeg and tm < aend) or (tm > bbeg and tm < bend) :\n",
    "            last_data = load_prev_days_macds_data(conf['input_stock_macd_data_file_name']);\n",
    "            minute_data = load_minute_data_from_redis(conf['redis_host'],conf['redis_port'],conf['redis_db']);\n",
    "            cur_diff_num,cur_dea_num = calc_macd_data(last_data,minute_data)\n",
    "            print tm,cur_diff_num,cur_dea_num\n",
    "            write_macd_num_to_file( cur_diff_num,cur_dea_num,conf['minute_file_path'],conf['minute_file_name'])\n",
    "        else:\n",
    "            print tm,\"market closed.\"\n",
    "        time.sleep(60)"
   ]
  },
  {
   "cell_type": "code",
   "execution_count": null,
   "metadata": {
    "collapsed": false
   },
   "outputs": [],
   "source": [
    "run(config_parms)"
   ]
  },
  {
   "cell_type": "code",
   "execution_count": null,
   "metadata": {
    "collapsed": true
   },
   "outputs": [],
   "source": []
  }
 ],
 "metadata": {
  "kernelspec": {
   "display_name": "Python 2",
   "language": "python",
   "name": "python2"
  },
  "language_info": {
   "codemirror_mode": {
    "name": "ipython",
    "version": 2
   },
   "file_extension": ".py",
   "mimetype": "text/x-python",
   "name": "python",
   "nbconvert_exporter": "python",
   "pygments_lexer": "ipython2",
   "version": "2.7.11"
  }
 },
 "nbformat": 4,
 "nbformat_minor": 0
}
