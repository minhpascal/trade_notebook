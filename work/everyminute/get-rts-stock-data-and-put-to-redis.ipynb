{
 "cells": [
  {
   "cell_type": "code",
   "execution_count": 1,
   "metadata": {
    "collapsed": true
   },
   "outputs": [],
   "source": [
    "from __future__ import division\n",
    "from numpy.random import randn\n",
    "from pandas import Series\n",
    "import numpy as np\n",
    "import pandas as pd\n",
    "import os\n",
    "import time;\n",
    "import datetime  \n",
    "import redis\n",
    "np.set_printoptions(precision=4)\n",
    "import sys; \n",
    "import httplib\n",
    "import traceback\n",
    "import urllib\n",
    "import StringIO, gzip"
   ]
  },
  {
   "cell_type": "code",
   "execution_count": 2,
   "metadata": {
    "collapsed": false
   },
   "outputs": [],
   "source": [
    "config_parms = {\n",
    "    'token' : '690111381bf285eb0d678863033ab682105aee2bcd2960eefbc9eeb1a69915b7',\n",
    "    'rts_save_file_path' : 'thefile.csv',\n",
    "    'redis_host' : 'localhost',\n",
    "    'redis_port' : 6379,\n",
    "    'redis_db'   : 0\n",
    "}"
   ]
  },
  {
   "cell_type": "code",
   "execution_count": 29,
   "metadata": {
    "collapsed": true
   },
   "outputs": [],
   "source": [
    "HTTP_OK = 200\n",
    "HTTP_AUTHORIZATION_ERROR = 401\n",
    "class Client:\n",
    "    domain = 'api.wmcloud.com'\n",
    "    port = 443\n",
    "    token = ''\n",
    "    httpClient = None\n",
    "    def __init__( self ):\n",
    "        self.httpClient = httplib.HTTPSConnection(self.domain, self.port)\n",
    "    def __del__( self ):\n",
    "        if self.httpClient is not None:\n",
    "            self.httpClient.close()\n",
    "    def encodepath(self, path):\n",
    "        #转换参数的编码\n",
    "        start=0\n",
    "        n=len(path)\n",
    "        re=''\n",
    "        i=path.find('=',start)\n",
    "        while i!=-1 :\n",
    "            re+=path[start:i+1]\n",
    "            start=i+1\n",
    "            i=path.find('&',start)\n",
    "            if(i>=0):\n",
    "                for j in range(start,i):\n",
    "                    if(path[j]>'~'):\n",
    "                        re+=urllib.quote(path[j])\n",
    "                    else:\n",
    "                        re+=path[j]  \n",
    "                re+='&'\n",
    "                start=i+1\n",
    "            else:\n",
    "                for j in range(start,n):\n",
    "                    if(path[j]>'~'):\n",
    "                        re+=urllib.quote(path[j])\n",
    "                    else:\n",
    "                        re+=path[j]  \n",
    "                start=n\n",
    "            i=path.find('=',start)\n",
    "        return re\n",
    "    def init(self, token):\n",
    "        self.token=token\n",
    "    def getData(self, path):\n",
    "        result = None\n",
    "        path='/data/v1'+path\n",
    "        path=self.encodepath(path)\n",
    "        # print path\n",
    "        try:\n",
    "            #set http header here\n",
    "            self.httpClient.request('GET', path, headers = {\"Authorization\": \"Bearer \" + self.token,\n",
    "                                                            \"Accept-Encoding\": \"gzip, deflate\"})\n",
    "            #make request\n",
    "            response = self.httpClient.getresponse()\n",
    "            #read result\n",
    "            if response.status == HTTP_OK:\n",
    "                #parse json into python primitive object\n",
    "                result = response.read()\n",
    "            else:\n",
    "                result = response.read()\n",
    "            compressedstream = StringIO.StringIO(result)  \n",
    "            gziper = gzip.GzipFile(fileobj=compressedstream)    \n",
    "            result = gziper.read()\n",
    "            if(path.find('.csv?')==-1):\n",
    "                result=result.decode('utf-8').encode('GB18030')\n",
    "            return response.status, result\n",
    "        except Exception, e:\n",
    "            #traceback.print_exc()\n",
    "            raise e\n",
    "        return -1, result\n"
   ]
  },
  {
   "cell_type": "code",
   "execution_count": 30,
   "metadata": {
    "collapsed": true
   },
   "outputs": [],
   "source": [
    "def getTickRTSnapshot(token,securityID='',assetClass='E',exchangeCD='XSHG,XSHE',field='lastPrice,shortNM',getType='csv',outfile='thefile.csv'):\n",
    "    try:\n",
    "        client = Client()\n",
    "        client.init(token)\n",
    "        if getType == 'csv':\n",
    "            url2='/api/market/getTickRTSnapshot.csv?securityID=%s&assetClass=%s&exchangeCD=%s&field=%s' \\\n",
    "            % (securityID,assetClass,exchangeCD,field)\n",
    "            #print url2\n",
    "            code, result = client.getData(url2)\n",
    "            if(code==200):\n",
    "                file_object = open(outfile, 'w')\n",
    "                file_object.write(result)\n",
    "                file_object.close( )\n",
    "                return True\n",
    "            else:\n",
    "                print code\n",
    "                print result\n",
    "                return False\n",
    "        else:\n",
    "            url1='/api/market/getTickRTSnapshot.json?securityID=&assetClass=E&exchangeCD=XSHG,XSHE&field=lastPrice,shortNM'\n",
    "            code, result = client.getData(url1)\n",
    "            if code==200:\n",
    "                print result\n",
    "                return True\n",
    "            else:\n",
    "                print code\n",
    "                print result\n",
    "                return False\n",
    "    except Exception, e:\n",
    "        traceback.print_exc()\n",
    "        #raise e\n",
    "        return False"
   ]
  },
  {
   "cell_type": "code",
   "execution_count": 31,
   "metadata": {
    "collapsed": false
   },
   "outputs": [],
   "source": [
    "def load_RtsSnapshot_and_filter_invalid_stock(inputfile='thefile.csv'):\n",
    "    # 从csv文件中读取该股票数据 \n",
    "    # 注意：这里请填写数据文件在您电脑中的路径\n",
    "    stock_data = pd.read_csv(inputfile,dtype = {u'ticker': str},encoding='gbk')\n",
    "    # print stock_data.columns\n",
    "    # 选取需要的字段，去除其他不需要的字段\n",
    "    #\"timestamp\",\"ticker\",\"exchangeCD\",\"shortNM\",\"lastPrice\"\n",
    "    stock_data = stock_data[[ u'ticker',u'exchangeCD', u'shortNM',u'lastPrice']]\n",
    "    stock_data.columns = ['code','market','shortname','price']\n",
    "    \n",
    "    #\n",
    "    stock_price_dict = {}\n",
    "    all_num = 0\n",
    "    left_num = 0\n",
    "    for id,row in stock_data.iterrows():\n",
    "        all_num += 1\n",
    "        code = str(row['code'])\n",
    "        if len(code) == 6 and (int(code[0]) == 6 or (code[0]) == \"0\" or int(code[0]) == 3):\n",
    "            pass\n",
    "        else:\n",
    "            #print \"code error:\", row['code'],row['shortname']\n",
    "            continue \n",
    "        # 过滤其他市场\n",
    "        if  row['market'] != 'XSHG' and row['market'] != 'XSHE':\n",
    "            #print \"market error:\", row['code'],row['shortname']\n",
    "            continue\n",
    "        if int(row['code'][0]) == 6 and row['market'] != 'XSHG':\n",
    "            #print \"market 6 XSHG error:\", row['code'],row['shortname']\n",
    "            continue\n",
    "        if (int(row['code'][0]) == 0 or  int(row['code'][0]) == 3 )and row['market'] != 'XSHE':\n",
    "            #print \"market 0 3 XSHE error:\", row['code'],row['shortname']\n",
    "            continue\n",
    "        if row['shortname'].encode('UTF-8','ignore').find('指数') != -1:\n",
    "            #print \"指数 error:\", row['code'],row['shortname']\n",
    "            continue\n",
    "        if row['shortname'].encode('UTF-8','ignore').find('上证') != -1:\n",
    "            #print \"上证 error:\", row['code'],row['shortname']\n",
    "            continue \n",
    "        if row['shortname'].encode('UTF-8','ignore').find('深证') != -1:\n",
    "            #print \"深证 error:\", row['code'],row['shortname']\n",
    "            continue\n",
    "        if row['shortname'].encode('UTF-8','ignore').find('成指') != -1:\n",
    "            #print \"成指 error:\", row['code'],row['shortname']\n",
    "            continue\n",
    "        if row['shortname'].encode('UTF-8','ignore').find('综指') != -1:\n",
    "            #print \"综指 error:\", row['code'],row['shortname']\n",
    "            continue        \n",
    "        # 大于 1000 为指数\n",
    "        if int(row['price']) > 1000:\n",
    "            #print \" > 1000 error:\", row['code'],row['shortname']\n",
    "            continue    \n",
    "        # 停牌\n",
    "        if float(row['price']) < 0.1:\n",
    "            #print \" < 0.1 error:\", row['code'],row['shortname']\n",
    "            continue            \n",
    "\n",
    "        #print row\n",
    "        left_num += 1\n",
    "        stock_price_dict[row['code']] = int(row['price'] * 10000.0)\n",
    "    return all_num,left_num,stock_price_dict"
   ]
  },
  {
   "cell_type": "code",
   "execution_count": 32,
   "metadata": {
    "collapsed": true
   },
   "outputs": [],
   "source": [
    "# 得到当前时间串\n",
    "def get_cur_day():\n",
    "    cur_day = datetime.datetime.now() \n",
    "    cur_day_str = cur_day.strftime('%Y-%m-%d'); \n",
    "    cur_day_trim_str = cur_day.strftime('%Y%m%d');\n",
    "    cur_minute = cur_day.strftime('%Y-%m-%d %H:%M:%S'); \n",
    "    return cur_day,cur_day_str,cur_day_trim_str,cur_minute"
   ]
  },
  {
   "cell_type": "code",
   "execution_count": 33,
   "metadata": {
    "collapsed": true
   },
   "outputs": [],
   "source": [
    "#从 Redis 中加载当前数据\n",
    "def add_minute_data_to_redis(stock_price_dict,redis_host,redis_port,redis_db):\n",
    "    r = redis.StrictRedis(host=redis_host,port=redis_port,db=redis_db)\n",
    "    cur_day,cur_day_str,cur_day_trim_str,cur_minute = get_cur_day()\n",
    "\n",
    "    result = r.hmset('day:' + cur_day_trim_str,stock_price_dict)\n",
    "\n",
    "    return result"
   ]
  },
  {
   "cell_type": "code",
   "execution_count": 37,
   "metadata": {
    "collapsed": true
   },
   "outputs": [],
   "source": [
    "def run(conf):\n",
    "    while True:\n",
    "        tm = datetime.datetime.now()\n",
    "        abeg = datetime.datetime(tm.year,tm.month,tm.day,9,30,0)\n",
    "        aend = datetime.datetime(tm.year,tm.month,tm.day,11,30,0)\n",
    "        bbeg = datetime.datetime(tm.year,tm.month,tm.day,13,0,0)\n",
    "        bend = datetime.datetime(tm.year,tm.month,tm.day,15,0,0)\n",
    "        if (tm > abeg and tm < aend) or (tm > bbeg and tm < bend) :\n",
    "            get_ok = getTickRTSnapshot(conf['token'],outfile=conf['rts_save_file_path']);\n",
    "            if get_ok:\n",
    "                all_num,left_num,stock_price_dict = load_RtsSnapshot_and_filter_invalid_stock(inputfile=conf['rts_save_file_path'])\n",
    "                result = add_minute_data_to_redis(stock_price_dict,conf['redis_host'],conf['redis_port'],conf['redis_db']);\n",
    "                print tm,\",add_minute_data_to_redis(), set redis:\",result\n",
    "            else:\n",
    "                print tm,\"RTS data get error!\"\n",
    "        else:\n",
    "            print tm,\"market closed.\"\n",
    "        time.sleep(60)"
   ]
  },
  {
   "cell_type": "code",
   "execution_count": null,
   "metadata": {
    "collapsed": false
   },
   "outputs": [
    {
     "name": "stdout",
     "output_type": "stream",
     "text": [
      "2016-04-13 16:31:32.017000 market closed.\n"
     ]
    }
   ],
   "source": [
    "run(config_parms)"
   ]
  },
  {
   "cell_type": "code",
   "execution_count": null,
   "metadata": {
    "collapsed": true
   },
   "outputs": [],
   "source": []
  },
  {
   "cell_type": "code",
   "execution_count": null,
   "metadata": {
    "collapsed": true
   },
   "outputs": [],
   "source": []
  },
  {
   "cell_type": "code",
   "execution_count": null,
   "metadata": {
    "collapsed": true
   },
   "outputs": [],
   "source": []
  }
 ],
 "metadata": {
  "kernelspec": {
   "display_name": "Python 2",
   "language": "python",
   "name": "python2"
  },
  "language_info": {
   "codemirror_mode": {
    "name": "ipython",
    "version": 2
   },
   "file_extension": ".py",
   "mimetype": "text/x-python",
   "name": "python",
   "nbconvert_exporter": "python",
   "pygments_lexer": "ipython2",
   "version": "2.7.11"
  }
 },
 "nbformat": 4,
 "nbformat_minor": 0
}
