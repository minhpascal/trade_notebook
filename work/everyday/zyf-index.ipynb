{
 "cells": [
  {
   "cell_type": "code",
   "execution_count": 1,
   "metadata": {
    "collapsed": false
   },
   "outputs": [],
   "source": [
    "from __future__ import division\n",
    "from numpy.random import randn\n",
    "from pandas import Series\n",
    "import numpy as np\n",
    "import pandas as pd\n",
    "import os\n",
    "import datetime  \n",
    "np.set_printoptions(precision=4)\n",
    "import sys; "
   ]
  },
  {
   "cell_type": "code",
   "execution_count": 2,
   "metadata": {
    "collapsed": true
   },
   "outputs": [],
   "source": [
    "config_parms = {\n",
    "    # input CSV 基本指数数据文件目录(到20151218为止)，不包括之后每天的数据文件\n",
    "    'input_base_index_data_path' :  'E:/project/pychram/traderesp/base/input-csv/from-begin-to-20151218-day-index/',\n",
    "    #每日的指数 CSV 数据文件目录(20151218之后的文件)\n",
    "    'input_everyday_index_data_path' : 'E:/project/pychram/traderesp/base/input-csv/everyday-index-stock/',\n",
    "    #每日的指数 CSV 数据文件名称\n",
    "    'input_everyday_index_data_name' : 'index data.csv',\n",
    "    #计算 MACD 值的 指数的名称\n",
    "    'macd_index_name' : 'sh000001',\n",
    "    'output_index_data_cvs_file_name' : 'E:/project/pychram/traderesp/base/input-csv/end-is-today-index-macd/end-is-today-index-macd.csv'\n",
    "}"
   ]
  },
  {
   "cell_type": "code",
   "execution_count": 3,
   "metadata": {
    "collapsed": true
   },
   "outputs": [],
   "source": [
    "# 得到每日的指数 CSV 文件名列表\n",
    "def get_every_days_index_files(index_everyday_csv_path,index_everyday_csv_name):\n",
    "    abs_filename_list = []\n",
    "    for root, dirs, files in os.walk(index_everyday_csv_path):# 注意：这里请填写数据文件在您电脑中的路径\n",
    "        if dirs:\n",
    "            for item in dirs:\n",
    "                abs_filename_list.append(index_everyday_csv_path + item + '/' + index_everyday_csv_name)\n",
    "    return abs_filename_list"
   ]
  },
  {
   "cell_type": "code",
   "execution_count": 4,
   "metadata": {
    "collapsed": true
   },
   "outputs": [],
   "source": [
    "#加载每日的指数 CSV 文件\n",
    "def get_every_days_index_data(index_everyday_csv_path,index_everyday_csv_name):\n",
    "    file_list = get_every_days_index_files(index_everyday_csv_path,index_everyday_csv_name)\n",
    "    #print file_list\n",
    "    all_index = pd.DataFrame()\n",
    "    i=0\n",
    "    # 遍历每个股票\n",
    "    for file_name in file_list:\n",
    "        # 测试 5 次跳过\n",
    "        i+=1\n",
    "        if i>= 5:\n",
    "            #break\n",
    "            pass\n",
    "        print file_name\n",
    "        # 从csv文件中读取该指数数据 \n",
    "        # 注意：这里请填写数据文件在您电脑中的路径\n",
    "        index_data = pd.read_csv(file_name,\n",
    "                                 parse_dates=['date'],encoding='gbk')\n",
    "        # print index_data.columns\n",
    "        # 选取需要的字段，去除其他不需要的字段\n",
    "        # index_code,date,open,close,low,high,volume,money,change\n",
    "        index_data = index_data[['index_code','date','close']]\n",
    "        #\n",
    "        # 将该股票的合并到output中\n",
    "        all_index = all_index.append(index_data, ignore_index=True)\n",
    "    #\n",
    "    return all_index"
   ]
  },
  {
   "cell_type": "code",
   "execution_count": 5,
   "metadata": {
    "collapsed": true
   },
   "outputs": [],
   "source": [
    "# 得到初始的指数 CSV 文件名列表\n",
    "def get_all_index_code_list(index_base_csv_path):\n",
    "    # ========== 遍历数据文件夹中所有指数文件的文件名，得到指数代码列表index_code_list\n",
    "    index_code_list = []\n",
    "    for root, dirs, files in os.walk(index_base_csv_path):# 注意：这里请填写数据文件在您电脑中的路径\n",
    "        if files:\n",
    "            for f in files:\n",
    "                if '.csv' in f:\n",
    "                    index_code_list.append(f.split('.csv')[0])\n",
    "    #\n",
    "    return index_code_list"
   ]
  },
  {
   "cell_type": "code",
   "execution_count": 6,
   "metadata": {
    "collapsed": true
   },
   "outputs": [],
   "source": [
    "# 生成 指数的 MACD 数据\n",
    "def gen_from_begin_to_today_macd_data(index_base_csv_path,index_everyday_csv_path,index_everyday_csv_name):\n",
    "    #加载每天的数据\n",
    "    every_days_index = get_every_days_index_data(index_everyday_csv_path,index_everyday_csv_name)\n",
    "    #print every_days_index\n",
    "    #old index code list\n",
    "    index_code_list = get_all_index_code_list(index_base_csv_path)\n",
    "    # ========== 根据上一步得到的代码列表，遍历所有指数，将这些指数合并到一张表格 all_index 中\n",
    "    all_index = pd.DataFrame()\n",
    "    i=0\n",
    "    # 遍历每个指数\n",
    "    for index_code in index_code_list:\n",
    "        # 测试 5 次跳过\n",
    "        i+=1\n",
    "        if i>= 5:\n",
    "            #break\n",
    "            pass\n",
    "        print index_code\n",
    "        # 从csv文件中读取该股票数据 \n",
    "        # 注意：这里请填写数据文件在您电脑中的路径\n",
    "        index_data = pd.read_csv(index_base_csv_path + index_code + '.csv',\n",
    "                                 parse_dates=['date'],encoding='gbk')\n",
    "        # print index_data.columns\n",
    "        # 选取需要的字段，去除其他不需要的字段\n",
    "        # index_code,date,open,close,low,high,volume,money,change\n",
    "        index_data = index_data[[ 'date','index_code', 'close']]\n",
    "        #加入 every day 的数据\n",
    "        cur_index_code_every_data = every_days_index[every_days_index['index_code'] == index_code]\n",
    "        index_data = index_data.append(cur_index_code_every_data, ignore_index=True)\n",
    "        #排序\n",
    "        index_data.sort_values(by='date', ascending=True,inplace=True)\n",
    "        #\n",
    "        ema_12 = pd.ewma(index_data['close'], span=12)\n",
    "        ema_26 = pd.ewma(index_data['close'], span=26)\n",
    "        index_data['ema_12'] = ema_12\n",
    "        index_data['ema_26'] = ema_26\n",
    "        index_data['diff'] = ema_12 - ema_26\n",
    "        index_data['dea'] = pd.ewma(index_data['diff'], span=9)\n",
    "        index_data['macd'] = 2*(index_data['diff'] - index_data['dea'])\n",
    "        #\n",
    "        # 将该指数合并到output中\n",
    "        all_index = all_index.append(index_data, ignore_index=True)\n",
    "    #遍历完成，返回全部\n",
    "    return all_index"
   ]
  },
  {
   "cell_type": "code",
   "execution_count": 13,
   "metadata": {
    "collapsed": true
   },
   "outputs": [],
   "source": [
    "def run(conf):\n",
    "    all_index = gen_from_begin_to_today_macd_data(conf['input_base_index_data_path'],conf['input_everyday_index_data_path'],conf['input_everyday_index_data_name'])    \n",
    "    sh_index = all_index[(all_index['index_code'] == conf['macd_index_name']) ]\n",
    "    # 按 date 排序\n",
    "    sh_index = sh_index[[ 'index_code','date', 'close','ema_12','ema_26','diff','dea','macd']]\n",
    "    output = sh_index.sort_values(by=['date'],ascending=True)\n",
    "    #output\n",
    "    # ========== 将算好的数据输出到csv文件 - 注意：这里请填写输出文件在您电脑中的路径\n",
    "    # output CSV数据文件\n",
    "    output.to_csv(conf['output_index_data_cvs_file_name'],encoding='gbk', index=False)"
   ]
  },
  {
   "cell_type": "code",
   "execution_count": 14,
   "metadata": {
    "collapsed": false
   },
   "outputs": [
    {
     "name": "stdout",
     "output_type": "stream",
     "text": [
      "E:/project/pychram/traderesp/base/input-csv/everyday-index-stock/overview-push-2015-12-21/index data.csv\n",
      "E:/project/pychram/traderesp/base/input-csv/everyday-index-stock/overview-push-2015-12-22/index data.csv\n",
      "E:/project/pychram/traderesp/base/input-csv/everyday-index-stock/overview-push-2015-12-23/index data.csv\n",
      "E:/project/pychram/traderesp/base/input-csv/everyday-index-stock/overview-push-2015-12-24/index data.csv\n",
      "E:/project/pychram/traderesp/base/input-csv/everyday-index-stock/overview-push-2015-12-25/index data.csv\n",
      "E:/project/pychram/traderesp/base/input-csv/everyday-index-stock/overview-push-2015-12-28/index data.csv\n",
      "E:/project/pychram/traderesp/base/input-csv/everyday-index-stock/overview-push-2015-12-29/index data.csv\n",
      "E:/project/pychram/traderesp/base/input-csv/everyday-index-stock/overview-push-2015-12-30/index data.csv\n",
      "E:/project/pychram/traderesp/base/input-csv/everyday-index-stock/overview-push-2015-12-31/index data.csv\n",
      "sh000001\n",
      "sh000016\n",
      "sh000300\n",
      "sz399001\n",
      "sz399005\n",
      "sz399006\n",
      "sz399905\n"
     ]
    }
   ],
   "source": [
    "run(config_parms)"
   ]
  },
  {
   "cell_type": "code",
   "execution_count": null,
   "metadata": {
    "collapsed": true
   },
   "outputs": [],
   "source": []
  }
 ],
 "metadata": {
  "kernelspec": {
   "display_name": "Python 2",
   "language": "python",
   "name": "python2"
  },
  "language_info": {
   "codemirror_mode": {
    "name": "ipython",
    "version": 2
   },
   "file_extension": ".py",
   "mimetype": "text/x-python",
   "name": "python",
   "nbconvert_exporter": "python",
   "pygments_lexer": "ipython2",
   "version": "2.7.8"
  }
 },
 "nbformat": 4,
 "nbformat_minor": 0
}
