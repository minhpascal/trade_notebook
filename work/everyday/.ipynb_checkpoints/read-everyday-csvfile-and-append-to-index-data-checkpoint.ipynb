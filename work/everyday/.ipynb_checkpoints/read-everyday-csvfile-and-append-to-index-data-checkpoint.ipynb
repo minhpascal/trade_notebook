{
 "cells": [
  {
   "cell_type": "code",
   "execution_count": null,
   "metadata": {
    "collapsed": false
   },
   "outputs": [],
   "source": [
    "from __future__ import division\n",
    "from numpy.random import randn\n",
    "from pandas import Series\n",
    "import numpy as np\n",
    "import pandas as pd\n",
    "import os\n",
    "import datetime  \n",
    "np.set_printoptions(precision=4)\n",
    "import sys; "
   ]
  },
  {
   "cell_type": "code",
   "execution_count": null,
   "metadata": {
    "collapsed": true
   },
   "outputs": [],
   "source": [
    "config_parms = {\n",
    "    # input CSV 基本指数数据文件目录(到20151218为止)，不包括之后每天的数据文件\n",
    "    'input_base_index_data_path' :  'E:/project/pychram/traderesp/base/input-csv/from-begin-to-20151218-day-index/',\n",
    "    #每日的指数 CSV 数据文件目录(20151218之后的文件)\n",
    "    'input_everyday_index_data_path' : 'E:/project/pychram/traderesp/base/input-csv/everyday-index-stock/',\n",
    "    #每日的指数 CSV 数据文件名称\n",
    "    'input_everyday_index_data_name' : 'index data.csv',\n",
    "    #计算 M26 值的 指数的名称\n",
    "    'm26_index_name' : 'sh000001',\n",
    "    'output_m26_singnal_file_name' : 'E:/project/pychram/traderesp/base/input-csv/end-is-today-index-m26/today_index_m26.txt',\n",
    "    'output_index_data_cvs_file_name' : 'E:/project/pychram/traderesp/base/input-csv/end-is-today-index-m26/end-is-today-index-m26.csv'\n",
    "}"
   ]
  },
  {
   "cell_type": "code",
   "execution_count": null,
   "metadata": {
    "collapsed": true
   },
   "outputs": [],
   "source": [
    "# 得到每日的指数 CSV 文件名列表\n",
    "def get_every_days_index_files(index_everyday_csv_path,index_everyday_csv_name):\n",
    "    abs_filename_list = []\n",
    "    for root, dirs, files in os.walk(index_everyday_csv_path):# 注意：这里请填写数据文件在您电脑中的路径\n",
    "        if dirs:\n",
    "            for item in dirs:\n",
    "                abs_filename_list.append(index_everyday_csv_path + item + '/' + index_everyday_csv_name)\n",
    "    return abs_filename_list"
   ]
  },
  {
   "cell_type": "code",
   "execution_count": null,
   "metadata": {
    "collapsed": true
   },
   "outputs": [],
   "source": [
    "#加载每日的指数 CSV 文件\n",
    "def get_every_days_index_data(index_everyday_csv_path,index_everyday_csv_name):\n",
    "    file_list = get_every_days_index_files(index_everyday_csv_path,index_everyday_csv_name)\n",
    "    #print file_list\n",
    "    all_index = pd.DataFrame()\n",
    "    i=0\n",
    "    # 遍历每个股票\n",
    "    for file_name in file_list:\n",
    "        # 测试 5 次跳过\n",
    "        i+=1\n",
    "        if i>= 5:\n",
    "            #break\n",
    "            pass\n",
    "        print file_name\n",
    "        # 从csv文件中读取该指数数据 \n",
    "        # 注意：这里请填写数据文件在您电脑中的路径\n",
    "        index_data = pd.read_csv(file_name,\n",
    "                                 parse_dates=['date'],encoding='gbk')\n",
    "        # print index_data.columns\n",
    "        # 选取需要的字段，去除其他不需要的字段\n",
    "        # index_code,date,open,close,low,high,volume,money,change\n",
    "        index_data = index_data[['index_code','date','close']]\n",
    "        #\n",
    "        # 将该股票的合并到output中\n",
    "        all_index = all_index.append(index_data, ignore_index=True)\n",
    "    #\n",
    "    return all_index"
   ]
  },
  {
   "cell_type": "code",
   "execution_count": null,
   "metadata": {
    "collapsed": true
   },
   "outputs": [],
   "source": [
    "# 得到初始的指数 CSV 文件名列表\n",
    "def get_all_index_code_list(index_base_csv_path):\n",
    "    # ========== 遍历数据文件夹中所有指数文件的文件名，得到指数代码列表index_code_list\n",
    "    index_code_list = []\n",
    "    for root, dirs, files in os.walk(index_base_csv_path):# 注意：这里请填写数据文件在您电脑中的路径\n",
    "        if files:\n",
    "            for f in files:\n",
    "                if '.csv' in f:\n",
    "                    index_code_list.append(f.split('.csv')[0])\n",
    "    #\n",
    "    return index_code_list"
   ]
  },
  {
   "cell_type": "code",
   "execution_count": null,
   "metadata": {
    "collapsed": true
   },
   "outputs": [],
   "source": [
    "# 生成 指数的 M26 数据\n",
    "def gen_from_begin_to_today_m26_data(index_base_csv_path,index_everyday_csv_path,index_everyday_csv_name):\n",
    "    #加载每天的数据\n",
    "    every_days_index = get_every_days_index_data(index_everyday_csv_path,index_everyday_csv_name)\n",
    "    #print every_days_index\n",
    "    #old index code list\n",
    "    index_code_list = get_all_index_code_list(index_base_csv_path)\n",
    "    # ========== 根据上一步得到的代码列表，遍历所有指数，将这些指数合并到一张表格 all_index 中\n",
    "    all_index = pd.DataFrame()\n",
    "    i=0\n",
    "    # 遍历每个指数\n",
    "    for index_code in index_code_list:\n",
    "        # 测试 5 次跳过\n",
    "        i+=1\n",
    "        if i>= 5:\n",
    "            #break\n",
    "            pass\n",
    "        print index_code\n",
    "        # 从csv文件中读取该股票数据 \n",
    "        # 注意：这里请填写数据文件在您电脑中的路径\n",
    "        index_data = pd.read_csv(index_base_csv_path + index_code + '.csv',\n",
    "                                 parse_dates=['date'],encoding='gbk')\n",
    "        # print index_data.columns\n",
    "        # 选取需要的字段，去除其他不需要的字段\n",
    "        # index_code,date,open,close,low,high,volume,money,change\n",
    "        index_data = index_data[[ 'date','index_code', 'close']]\n",
    "        #加入 every day 的数据\n",
    "        cur_index_code_every_data = every_days_index[every_days_index['index_code'] == index_code]\n",
    "        index_data = index_data.append(cur_index_code_every_data, ignore_index=True)\n",
    "        #排序\n",
    "        index_data.sort_values(by='date', ascending=True,inplace=True)\n",
    "        # 只计算 26 日的移动平均线\n",
    "        ma_26 = 26\n",
    "        # 计算简单算术移动平均线MA - 注意：index_data['close']为指数每天的收盘点\n",
    "        index_data['MA_26'] = pd.rolling_mean(index_data['close'], ma_26)\n",
    "        # 判断是否中轨之上\n",
    "        # 当当天的【close】> M26 时，将【收盘发出的信号】设定为1\n",
    "        buy_index = index_data[index_data['close'] > index_data['MA_26']].index\n",
    "        index_data.loc[buy_index, 'close_signal'] = 1\n",
    "        # 当当天的【close】< M26 时，将【收盘发出的信号】设定为 0\n",
    "        sell_index = index_data[index_data['close'] < index_data['MA_26']].index\n",
    "        index_data.loc[sell_index, 'close_signal'] = 0\n",
    "        # 计算每天的仓位，当天应该买入时，【当天的买卖信号】为1，当天不应该买入时，【当天的买卖信号】为0\n",
    "        index_data['today_signal'] = index_data['close_signal'].shift(1)\n",
    "        #\n",
    "        # 将该指数合并到output中\n",
    "        all_index = all_index.append(index_data, ignore_index=True)\n",
    "    #遍历完成，返回全部\n",
    "    return all_index"
   ]
  },
  {
   "cell_type": "code",
   "execution_count": null,
   "metadata": {
    "collapsed": true
   },
   "outputs": [],
   "source": [
    "def get_today_index_m26_singnal_and_write_to_file(all_index,m26_index_code,m26_signal_file_name):\n",
    "    sh_index = all_index[(all_index['index_code'] == m26_index_code) ]\n",
    "    sh_index = sh_index.tail(1)\n",
    "    last_day_str = sh_index['date'].values[0]\n",
    "    last_index_m26_flag = sh_index['today_signal'].values[0]\n",
    "    # ========== 将算好的数据输出到文件 - 注意：这里请填写输出文件在您电脑中的路径\n",
    "    handle = open(m26_signal_file_name,\"a\")\n",
    "    handle.write(str(last_day_str)[0:10] + \",\" + str(last_index_m26_flag) + \"\\n\")\n",
    "    handle.close()\n",
    "    return last_day_str,last_index_m26_flag"
   ]
  },
  {
   "cell_type": "code",
   "execution_count": null,
   "metadata": {
    "collapsed": true
   },
   "outputs": [],
   "source": [
    "def run(conf):\n",
    "    all_index = gen_from_begin_to_today_m26_data(conf['input_base_index_data_path'],conf['input_everyday_index_data_path'],conf['input_everyday_index_data_name'])\n",
    "    last_day_str,last_index_m26_flag = get_today_index_m26_singnal_and_write_to_file(all_index,conf['m26_index_name'],conf['output_m26_singnal_file_name'])\n",
    "    print last_day_str,last_index_m26_flag\n",
    "    # 按 date , code 排序\n",
    "    output = all_index.sort_values(by=['date','index_code'],ascending=True)\n",
    "    #output\n",
    "    # ========== 将算好的数据输出到csv文件 - 注意：这里请填写输出文件在您电脑中的路径\n",
    "    # output CSV数据文件\n",
    "    output.to_csv(conf['output_index_data_cvs_file_name'],encoding='gbk', index=False)"
   ]
  },
  {
   "cell_type": "code",
   "execution_count": null,
   "metadata": {
    "collapsed": false
   },
   "outputs": [],
   "source": [
    "run(config_parms)"
   ]
  },
  {
   "cell_type": "code",
   "execution_count": null,
   "metadata": {
    "collapsed": true
   },
   "outputs": [],
   "source": []
  }
 ],
 "metadata": {
  "kernelspec": {
   "display_name": "Python 2",
   "language": "python",
   "name": "python2"
  },
  "language_info": {
   "codemirror_mode": {
    "name": "ipython",
    "version": 2
   },
   "file_extension": ".py",
   "mimetype": "text/x-python",
   "name": "python",
   "nbconvert_exporter": "python",
   "pygments_lexer": "ipython2",
   "version": "2.7.8"
  }
 },
 "nbformat": 4,
 "nbformat_minor": 0
}
