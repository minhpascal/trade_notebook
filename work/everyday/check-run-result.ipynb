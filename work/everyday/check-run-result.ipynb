{
 "cells": [
  {
   "cell_type": "code",
   "execution_count": 1,
   "metadata": {
    "collapsed": true
   },
   "outputs": [],
   "source": [
    "from __future__ import division\n",
    "from numpy.random import randn\n",
    "from pandas import Series\n",
    "import numpy as np\n",
    "import pandas as pd\n",
    "import os\n",
    "import datetime  \n",
    "import time\n",
    "np.set_printoptions(precision=4)\n",
    "import sys; \n",
    "import MySQLdb;"
   ]
  },
  {
   "cell_type": "code",
   "execution_count": null,
   "metadata": {
    "collapsed": true
   },
   "outputs": [],
   "source": [
    "config_parms = {\n",
    "    #每日的指数 CSV 数据文件目录(20151218之后的文件)\n",
    "    'input_everyday_index_data_path' : 'E:/project/pychram/traderesp/base/input-csv/everyday-index-stock/',\n",
    "    'output_index_file_name' : 'E:/project/pychram/traderesp/base/input-csv/end-is-today-index-m26/today_index_m26.txt',\n",
    "    'output_stock_file_name' : 'E:/project/pychram/traderesp/base/input-csv/end-is-today-stock-ema12-ema26-macd/today_stock_macd.txt',\n",
    "    'output_log_file_path'   : 'E:/project/pychram/traderesp/base/output-csv/log/',\n",
    "    'output_log_type'        : 101,\n",
    "    'mysql_host'             : '127.0.0.1',\n",
    "    'mysql_port'             : 3306,\n",
    "    'mysql_user'             : 'root',\n",
    "    'mysql_passwd'           : 'root',\n",
    "    'mysql_db_name'          : 'at'\n",
    "}"
   ]
  },
  {
   "cell_type": "code",
   "execution_count": null,
   "metadata": {
    "collapsed": true
   },
   "outputs": [],
   "source": [
    "# 得到当前时间串\n",
    "def get_cur_day():\n",
    "    cur_day = datetime.datetime.now() \n",
    "    cur_day_str = cur_day.strftime('%Y-%m-%d'); \n",
    "    cur_day_trim_str = cur_day.strftime('%Y%m%d');\n",
    "    cur_minute = cur_day.strftime('%Y-%m-%d %H:%M:%S'); \n",
    "    return cur_day,cur_day_str,cur_day_trim_str,cur_minute"
   ]
  },
  {
   "cell_type": "code",
   "execution_count": null,
   "metadata": {
    "collapsed": false
   },
   "outputs": [],
   "source": [
    "# 得到 last http result\n",
    "def get_last_http_result(everyday_path):\n",
    "    # ========== 遍历数据文件夹中所有目录名\n",
    "    dir_list = []\n",
    "    for root, dirs, files in os.walk(everyday_path):# 注意：这里请填写电脑中的路径\n",
    "        if dirs:\n",
    "            for dir in dirs:\n",
    "                if 'overview-push-' in dir:\n",
    "                    dir_list.append(dir.split('overview-push-')[1])\n",
    "\n",
    "    #print dir_list\n",
    "    cur_date_series = pd.Series(dir_list)\n",
    "    cur_date_dataframe = pd.DataFrame(cur_date_series)\n",
    "    cur_date_dataframe.columns=['date']\n",
    "    last_day = cur_date_dataframe.max()['date']\n",
    "    return last_day\n",
    "    "
   ]
  },
  {
   "cell_type": "code",
   "execution_count": null,
   "metadata": {
    "collapsed": true
   },
   "outputs": [],
   "source": [
    "# 得到 last index result\n",
    "def get_last_index_result(index_m26_file_name):\n",
    "    handle = open(index_m26_file_name,\"r\")\n",
    "    lines = handle.readlines();\n",
    "    lines = list(reversed(lines))\n",
    "    return lines[0].strip()"
   ]
  },
  {
   "cell_type": "code",
   "execution_count": null,
   "metadata": {
    "collapsed": true
   },
   "outputs": [],
   "source": [
    "# 得到 last stock result\n",
    "def get_last_stock_result(stock_macd_file_name):\n",
    "    handle = open(stock_macd_file_name,\"r\")\n",
    "    lines = handle.readlines();\n",
    "    lines = list(reversed(lines))\n",
    "    return lines[0].strip()"
   ]
  },
  {
   "cell_type": "code",
   "execution_count": null,
   "metadata": {
    "collapsed": true
   },
   "outputs": [],
   "source": [
    "# 将结果写入文件\n",
    "def write_log_to_file(output_log_file_path,output_log_type,msg):\n",
    "    cur_day,cur_day_str,cur_day_trim_str,cur_minute = get_cur_day()\n",
    "    log_file = output_log_file_path + cur_day_str + \".log\";\n",
    "    with open(log_file,'a') as handle:\n",
    "        handle.writelines(str(output_log_type) + \":\" + str(msg) + \"\\n\")\n",
    "        handle.close()"
   ]
  },
  {
   "cell_type": "code",
   "execution_count": null,
   "metadata": {
    "collapsed": false
   },
   "outputs": [],
   "source": [
    "#将结果写入数据库\n",
    "# 打开数据库连接\n",
    "def write_log_to_db(mysql_host,mysql_port,mysql_user,mysql_passwd,mysql_db_name,output_log_type,log_msg):\n",
    "    db = MySQLdb.connect(mysql_host,mysql_user,mysql_passwd,mysql_db_name )\n",
    "    # 使用cursor()方法获取操作游标 \n",
    "    cursor = db.cursor()\n",
    "    # SQL 插入语句\n",
    "    cur_day,cur_day_str,cur_day_trim_str,cur_minute = get_cur_day()\n",
    "    sql = \"INSERT INTO AT_LOG(LX,LOG_TIME,LOG_MSG) VALUES ('%d', '%s', '%s' )\" % (output_log_type, cur_minute, str(log_msg))\n",
    "    print sql\n",
    "    try:\n",
    "       # 执行sql语句\n",
    "       cursor.execute(sql)\n",
    "       # 提交到数据库执行\n",
    "       db.commit()\n",
    "    except:\n",
    "       # Rollback in case there is any error\n",
    "       db.rollback()\n",
    "    # 关闭数据库连接\n",
    "    db.close()"
   ]
  },
  {
   "cell_type": "code",
   "execution_count": null,
   "metadata": {
    "collapsed": true
   },
   "outputs": [],
   "source": [
    "#传入 String 得到 datetime \n",
    "def get_datetime_from_str(input_str):\n",
    "    time_day = time.strptime(input_str, '%Y-%m-%d')\n",
    "    dt_day = datetime.datetime(*time_day[:6])\n",
    "    return dt_day"
   ]
  },
  {
   "cell_type": "code",
   "execution_count": null,
   "metadata": {
    "collapsed": false
   },
   "outputs": [],
   "source": [
    "def run(conf):\n",
    "    starttime = datetime.datetime.now()\n",
    "    print \"begin:\",starttime    \n",
    "    #############################################################################    \n",
    "    dt_today = datetime.datetime.today()\n",
    "    log_msg = '<font color=\"red\">MAYBE HAVE SOME ERROR,PLEASE CHECK</font>'\n",
    "    if(dt_today.hour < 19):\n",
    "        log_msg = '<font color=\"red\">Please run after 20 hours every evening</font>'\n",
    "    else:\n",
    "        last_http_day_str = get_last_http_result(conf['input_everyday_index_data_path'])\n",
    "        last_index_day_str = get_last_index_result(conf['output_index_file_name'])\n",
    "        last_stock_day_str = get_last_stock_result(conf['output_stock_file_name'])\n",
    "\n",
    "        last_http_day = last_http_day_str.split(',')[0]\n",
    "        last_index_day = last_index_day_str.split(',')[0]\n",
    "        last_stock_day = last_stock_day_str.split(',')[0].split(' ')[0]\n",
    "        print 'http     last day is ' + last_http_day\n",
    "        print 'index    last day is '  + last_index_day \n",
    "        print 'stock    last day is '  + last_stock_day \n",
    "\n",
    "        dt_http_day  = get_datetime_from_str(last_http_day)\n",
    "        dt_index_day = get_datetime_from_str(last_index_day)\n",
    "        dt_stock_day = get_datetime_from_str(last_stock_day)\n",
    "        #\n",
    "        interval_http = (dt_today - dt_http_day).days\n",
    "        interval_index = (dt_today - dt_index_day).days\n",
    "        interval_stock = (dt_today - dt_stock_day).days\n",
    "        print interval_http,interval_index,interval_stock\n",
    "        week_day = dt_today.weekday()\n",
    "        print week_day\n",
    "\n",
    "        if(interval_http == 0 and interval_index == 0 and interval_stock == 0):\n",
    "            log_msg = \"OK.  NOW IS WORKDAY\"\n",
    "        elif (week_day == 5 or week_day == 6):\n",
    "            if(week_day == 5 and interval_http == 1 and interval_index == 1 and interval_stock == 1):   \n",
    "                log_msg = \"OK.  NOW IS SATURDAY\"\n",
    "            if(week_day == 6 and interval_http == 2 and interval_index == 2 and interval_stock == 2):   \n",
    "                log_msg = \"OK.  NOW IS SUNDAY\"   \n",
    "        else:\n",
    "            log_msg = '<font color=\"red\">MAYBE HAVE SOME ERROR,PLEASE CHECK</font>'\n",
    "\n",
    "        print dt_http_day,dt_index_day,dt_stock_day,dt_today\n",
    "    write_log_to_file(conf['output_log_file_path'],conf['output_log_type'],log_msg)\n",
    "    write_log_to_db(conf['mysql_host'],conf['mysql_port'],conf['mysql_user'],conf['mysql_passwd'],conf['mysql_db_name'],conf['output_log_type'],log_msg)\n",
    "    #############################################################################\n",
    "    endtime = datetime.datetime.now()\n",
    "    print \"end:\",endtime\n",
    "    print \"use(seconds):\",str((endtime - starttime).seconds)     \n",
    "    print \"#############################################################################\""
   ]
  },
  {
   "cell_type": "code",
   "execution_count": null,
   "metadata": {
    "collapsed": false
   },
   "outputs": [],
   "source": [
    "run(config_parms)"
   ]
  },
  {
   "cell_type": "code",
   "execution_count": 4,
   "metadata": {
    "collapsed": true
   },
   "outputs": [],
   "source": [
    "cur_day = datetime.datetime.now() \n",
    "cur_day_str = cur_day.strftime('%Y-%m-%d'); \n",
    "cur_day_trim_str = cur_day.strftime('%Y%m%d');\n",
    "cur_minute = cur_day.strftime('%Y-%m-%d %H:%M:%S'); "
   ]
  },
  {
   "cell_type": "code",
   "execution_count": 5,
   "metadata": {
    "collapsed": false
   },
   "outputs": [
    {
     "data": {
      "text/plain": [
       "'2016-01-27 15:58:12'"
      ]
     },
     "execution_count": 5,
     "metadata": {},
     "output_type": "execute_result"
    }
   ],
   "source": [
    "cur_minute"
   ]
  },
  {
   "cell_type": "code",
   "execution_count": null,
   "metadata": {
    "collapsed": true
   },
   "outputs": [],
   "source": []
  }
 ],
 "metadata": {
  "kernelspec": {
   "display_name": "Python 2",
   "language": "python",
   "name": "python2"
  },
  "language_info": {
   "codemirror_mode": {
    "name": "ipython",
    "version": 2
   },
   "file_extension": ".py",
   "mimetype": "text/x-python",
   "name": "python",
   "nbconvert_exporter": "python",
   "pygments_lexer": "ipython2",
   "version": "2.7.8"
  }
 },
 "nbformat": 4,
 "nbformat_minor": 0
}
