{
 "cells": [
  {
   "cell_type": "code",
   "execution_count": null,
   "metadata": {
    "collapsed": false
   },
   "outputs": [],
   "source": [
    "from __future__ import division\n",
    "from numpy.random import randn\n",
    "from pandas import Series\n",
    "import numpy as np\n",
    "import pandas as pd\n",
    "import os\n",
    "import datetime  \n",
    "np.set_printoptions(precision=4)\n",
    "import sys; \n",
    "#sys.path.append('book_scripts')\n",
    "#%pwd"
   ]
  },
  {
   "cell_type": "code",
   "execution_count": null,
   "metadata": {
    "collapsed": true
   },
   "outputs": [],
   "source": [
    "config_parms = {\n",
    "    # input CSV 基本 stock 数据文件目录(到20151218为止)，不包括之后每天的数据文件\n",
    "    #'input_base_stock_data_path' : 'E:/project/pychram/traderesp/base/input-csv/2013-2014-day-stock-history-test/',\n",
    "    'input_base_stock_data_path' : 'E:/project/pychram/traderesp/base/input-csv/from-begin-to-20151218-day-stock/',\n",
    "    #每日的 stock CSV 数据文件目录(20151218之后的文件)\n",
    "    'input_everyday_stock_data_path' : 'E:/project/pychram/traderesp/base/input-csv/everyday-index-stock/',\n",
    "    #每日的 stock CSV 数据文件名称\n",
    "    'input_everyday_stock_data_name' : 'stock overview.csv',\n",
    "    'output_macd_num_file_name' : 'E:/project/pychram/traderesp/base/input-csv/end-is-today-stock-ema12-ema26-macd/today_stock_macd.txt',\n",
    "    'output_stock_data_cvs_file_name' : 'E:/project/pychram/traderesp/base/input-csv/end-is-today-stock-ema12-ema26-macd/end-is-today-stock-ema12-ema26-macd.csv'\n",
    "}"
   ]
  },
  {
   "cell_type": "code",
   "execution_count": null,
   "metadata": {
    "collapsed": true
   },
   "outputs": [],
   "source": [
    "# 得到每日的 STOCK CSV 文件名列表\n",
    "def get_every_days_stock_files(stock_everyday_csv_path,stock_everyday_csv_name):\n",
    "    abs_filename_list = []\n",
    "    for root, dirs, files in os.walk(stock_everyday_csv_path):# 注意：这里请填写数据文件在您电脑中的路径\n",
    "        if dirs:\n",
    "            for item in dirs:\n",
    "                abs_filename_list.append(stock_everyday_csv_path + item + '/' + stock_everyday_csv_name)\n",
    "    return abs_filename_list"
   ]
  },
  {
   "cell_type": "code",
   "execution_count": null,
   "metadata": {
    "collapsed": false
   },
   "outputs": [],
   "source": [
    "#加载每日的 STOCK CSV 文件\n",
    "def get_every_days_stock_data(stock_everyday_csv_path,stock_everyday_csv_name):\n",
    "    file_list = get_every_days_stock_files(stock_everyday_csv_path,stock_everyday_csv_name)\n",
    "    #print file_list\n",
    "    all_stock = pd.DataFrame()\n",
    "    i=0\n",
    "    # 遍历每个股票\n",
    "    for file_name in file_list:\n",
    "        # 测试 5 次跳过\n",
    "        i+=1\n",
    "        if i>= 5:\n",
    "            #break\n",
    "            pass\n",
    "        #print file_name\n",
    "        # 从csv文件中读取该股票数据 \n",
    "        # 注意：这里请填写数据文件在您电脑中的路径\n",
    "        stock_data = pd.read_csv(file_name,\n",
    "                                 parse_dates=[2],encoding='gbk')\n",
    "        # print stock_data.columns\n",
    "        # 选取需要的字段，去除其他不需要的字段\n",
    "        # 股票代码,股票名称,交易日期,新浪行业,新浪概念,新浪地域,开盘价,最高价,最低价,收盘价,后复权价,前复权价,涨跌幅,成交量,成交额,换手率,流通市值,总市值,是否涨停,是否跌停,市盈率TTM,市销率TTM,市现率TTM,市净率,MA_5,MA_10,MA_20,MA_30,MA_60,MA金叉死叉,MACD_DIF,MACD_DEA,MACD_MACD,MACD_金叉死叉,KDJ_K,KDJ_D,KDJ_J,KDJ_金叉死叉,布林线中轨,布林线上轨,布林线下轨,psy,psyma,rsi1,rsi2,rsi3\n",
    "        stock_data = stock_data[[ u'交易日期',u'股票代码', u'收盘价','MACD_DIF','MACD_DEA','MACD_MACD']]\n",
    "        stock_data.columns = ['date','code','close','macd_dif','macd_dea','macd_macd']\n",
    "        # 去掉 stock 代表市场的前两个字符\n",
    "        trim_stock_code = stock_data['code'].map(lambda x: x[2:])\n",
    "        stock_data['code'] = trim_stock_code\n",
    "        #\n",
    "        # 将该股票的合并到output中\n",
    "        all_stock = all_stock.append(stock_data, ignore_index=True)\n",
    "    #\n",
    "    return all_stock"
   ]
  },
  {
   "cell_type": "code",
   "execution_count": null,
   "metadata": {
    "collapsed": true
   },
   "outputs": [],
   "source": [
    "# 得到初始的 STOCK CSV 文件名列表\n",
    "def get_all_stock_code_list(stock_base_csv_path):\n",
    "    # ========== 遍历数据文件夹中所有股票文件的文件名，得到股票代码列表stock_code_list\n",
    "    stock_code_list = []\n",
    "    for root, dirs, files in os.walk(stock_base_csv_path):# 注意：这里请填写数据文件在您电脑中的路径\n",
    "        if files:\n",
    "            for f in files:\n",
    "                if '.csv' in f:\n",
    "                    stock_code_list.append(f.split('.csv')[0])\n",
    "    #\n",
    "    return stock_code_list"
   ]
  },
  {
   "cell_type": "code",
   "execution_count": null,
   "metadata": {
    "collapsed": true
   },
   "outputs": [],
   "source": [
    "# 从每日数据中得到新的 STOCK 数据(去除掉昨天之前已经有的)\n",
    "def get_new_stock(every_days_stock,stock_code_list):\n",
    "    stock_code_base = [code[2:] for code in stock_code_list]\n",
    "    code_not_new = every_days_stock.ix[:,'code'].isin(stock_code_base)\n",
    "    code_not_new_need_del = code_not_new[code_not_new == True]\n",
    "    new_stock_data = every_days_stock.drop(code_not_new_need_del.index)\n",
    "    return new_stock_data"
   ]
  },
  {
   "cell_type": "code",
   "execution_count": null,
   "metadata": {
    "collapsed": true
   },
   "outputs": [],
   "source": [
    "# 计算新 STOCK 的 macd 数据\n",
    "def gen_new_stock_macd_data(new_stock_data):\n",
    "    all_new_stock = pd.DataFrame()\n",
    "    #\n",
    "    new_stock_dict = dict(list(new_stock_data.groupby('code')))\n",
    "    for code in new_stock_dict:\n",
    "        #print code\n",
    "        stock_data = new_stock_dict[code]\n",
    "        #排序\n",
    "        stock_data.sort_values(by='date', ascending=True,inplace=True)\n",
    "        #\n",
    "        ema_12 = pd.ewma(stock_data['close'], span=12)\n",
    "        ema_26 = pd.ewma(stock_data['close'], span=26)\n",
    "        stock_data['ema_12'] = ema_12\n",
    "        stock_data['ema_26'] = ema_26\n",
    "        stock_data['diff'] = ema_12 - ema_26\n",
    "        stock_data['dea'] = pd.ewma(stock_data['diff'], span=9)\n",
    "        stock_data['macd'] = 2*(stock_data['diff'] - stock_data['dea'])\n",
    "        # 将该股票的合并到output中\n",
    "        all_new_stock = all_new_stock.append(stock_data.tail(1), ignore_index=True)\n",
    "    #\n",
    "    return all_new_stock"
   ]
  },
  {
   "cell_type": "code",
   "execution_count": null,
   "metadata": {
    "collapsed": false
   },
   "outputs": [],
   "source": [
    "# 计算 STOCK 的 macd 数据，包括新的和旧的\n",
    "def gen_from_begin_to_today_stock_macd_data(stock_base_csv_path,stock_everyday_csv_path,stock_everyday_csv_name):\n",
    "    #加载每天的数据\n",
    "    every_days_stock = get_every_days_stock_data(stock_everyday_csv_path,stock_everyday_csv_name)\n",
    "    #old stock code list\n",
    "    stock_code_list = get_all_stock_code_list(stock_base_csv_path)\n",
    "    # ========== 根据上一步得到的代码列表，遍历所有股票，将这些股票合并到一张表格 all_stock 中\n",
    "    all_stock = pd.DataFrame()\n",
    "    i=0\n",
    "    # 遍历每个股票\n",
    "    for code in stock_code_list:\n",
    "        # 测试 5 次跳过\n",
    "        i+=1\n",
    "        if i>= 5:\n",
    "            #break\n",
    "            pass\n",
    "        #print code\n",
    "        # 从csv文件中读取该股票数据 \n",
    "        # 注意：这里请填写数据文件在您电脑中的路径\n",
    "        stock_data = pd.read_csv(stock_base_csv_path + code + '.csv',\n",
    "                                 parse_dates=[2],encoding='gbk')\n",
    "        # print stock_data.columns\n",
    "        # 选取需要的字段，去除其他不需要的字段\n",
    "        # 股票代码,股票名称,交易日期,新浪行业,新浪概念,新浪地域,开盘价,最高价,最低价,收盘价,后复权价,前复权价,涨跌幅,成交量,成交额,换手率,流通市值,总市值,是否涨停,是否跌停,市盈率TTM,市销率TTM,市现率TTM,市净率,MA_5,MA_10,MA_20,MA_30,MA_60,MA金叉死叉,MACD_DIF,MACD_DEA,MACD_MACD,MACD_金叉死叉,KDJ_K,KDJ_D,KDJ_J,KDJ_金叉死叉,布林线中轨,布林线上轨,布林线下轨,psy,psyma,rsi1,rsi2,rsi3\n",
    "        stock_data = stock_data[[ u'交易日期',u'股票代码', u'收盘价','MACD_DIF','MACD_DEA','MACD_MACD']]\n",
    "        stock_data.columns = ['date','code','close','macd_dif','macd_dea','macd_macd']\n",
    "        # 去掉 stock 代表市场的前两个字符\n",
    "        trim_stock_code = stock_data['code'].map(lambda x: x[2:])\n",
    "        stock_data['code'] = trim_stock_code\n",
    "        #加入 every day 的数据\n",
    "        cur_code_every_data = every_days_stock[every_days_stock['code'] == code[2:]]\n",
    "        stock_data = stock_data.append(cur_code_every_data, ignore_index=True)\n",
    "        #排序\n",
    "        stock_data.sort_values(by='date', ascending=True,inplace=True)\n",
    "        #\n",
    "        ema_12 = pd.ewma(stock_data['close'], span=12)\n",
    "        ema_26 = pd.ewma(stock_data['close'], span=26)\n",
    "        stock_data['ema_12'] = ema_12\n",
    "        stock_data['ema_26'] = ema_26\n",
    "        stock_data['diff'] = ema_12 - ema_26\n",
    "        stock_data['dea'] = pd.ewma(stock_data['diff'], span=9)\n",
    "        stock_data['macd'] = 2*(stock_data['diff'] - stock_data['dea'])\n",
    "        #\n",
    "        # 将该股票的合并到output中\n",
    "        all_stock = all_stock.append(stock_data.tail(1), ignore_index=True)\n",
    "    #新的stock\n",
    "    new_stock_data = get_new_stock(every_days_stock,stock_code_list)\n",
    "    all_new_stock = gen_new_stock_macd_data(new_stock_data)\n",
    "    #\n",
    "    # 将 新股票的合并到output中\n",
    "    all_stock = all_stock.append(all_new_stock, ignore_index=True)\n",
    "    #\n",
    "    return all_stock"
   ]
  },
  {
   "cell_type": "code",
   "execution_count": null,
   "metadata": {
    "collapsed": true
   },
   "outputs": [],
   "source": [
    "# 得到最后一天的 MACD 数量\n",
    "def get_today_macd_nums_and_write_to_file(all_stock,macd_num_file_name):\n",
    "    #cur_day = datetime.datetime.now() \n",
    "    #cur_day_str = cur_day.strftime('%Y-%m-%d'); \n",
    "    #today_stock = all_stock[all_stock['date'] == cur_day_str]\n",
    "    lastday = all_stock['date'].max()\n",
    "    lastday_stock = all_stock[all_stock['date'] == lastday]\n",
    "    \n",
    "    lastday_macd_num = lastday_stock[lastday_stock['macd_macd'] > 0.0].count()['code']\n",
    "    lastday_zhcd_num = lastday_stock[(lastday_stock['macd_dif'] > 0.0) & (lastday_stock['macd_dea'] > 0.0) & (lastday_stock['macd_macd'] > 0.0)].count()['code']\n",
    "    # ========== 将算好的数据输出到文件 - 注意：这里请填写输出文件在您电脑中的路径\n",
    "    handle = open(macd_num_file_name,\"a\")\n",
    "    handle.write(str(lastday) + \",\" + str(lastday_macd_num) + \",\" + str(lastday_zhcd_num) + \"\\n\")\n",
    "    handle.close()\n",
    "    return lastday,lastday_macd_num,lastday_zhcd_num"
   ]
  },
  {
   "cell_type": "code",
   "execution_count": null,
   "metadata": {
    "collapsed": true
   },
   "outputs": [],
   "source": [
    "def run(conf):\n",
    "    starttime = datetime.datetime.now()\n",
    "    print \"begin:\",starttime    \n",
    "    #############################################################################\n",
    "    all_stock = gen_from_begin_to_today_stock_macd_data(conf['input_base_stock_data_path'],conf['input_everyday_stock_data_path'],conf['input_everyday_stock_data_name'])\n",
    "    lastday,lastday_macd_num,lastday_zhcd_num = get_today_macd_nums_and_write_to_file(all_stock,conf['output_macd_num_file_name'])\n",
    "    print lastday,lastday_macd_num,lastday_zhcd_num\n",
    "    # 按 date , code 排序\n",
    "    output = all_stock.sort_values(by=['date','code'],ascending=True)\n",
    "    # ========== 将算好的数据输出到csv文件 - 注意：这里请填写输出文件在您电脑中的路径\n",
    "    # output CSV数据文件\n",
    "    output.to_csv(conf['output_stock_data_cvs_file_name'],encoding='gbk', index=False)    \n",
    "    #############################################################################\n",
    "    endtime = datetime.datetime.now()\n",
    "    print \"end:\",endtime\n",
    "    print \"use(seconds):\",str((endtime - starttime).seconds)    \n",
    "    print \"#############################################################################\""
   ]
  },
  {
   "cell_type": "code",
   "execution_count": null,
   "metadata": {
    "collapsed": false
   },
   "outputs": [],
   "source": [
    "run(config_parms)"
   ]
  },
  {
   "cell_type": "code",
   "execution_count": null,
   "metadata": {
    "collapsed": true
   },
   "outputs": [],
   "source": []
  },
  {
   "cell_type": "code",
   "execution_count": null,
   "metadata": {
    "collapsed": true
   },
   "outputs": [],
   "source": []
  },
  {
   "cell_type": "code",
   "execution_count": null,
   "metadata": {
    "collapsed": true
   },
   "outputs": [],
   "source": []
  }
 ],
 "metadata": {
  "kernelspec": {
   "display_name": "Python 2",
   "language": "python",
   "name": "python2"
  },
  "language_info": {
   "codemirror_mode": {
    "name": "ipython",
    "version": 2
   },
   "file_extension": ".py",
   "mimetype": "text/x-python",
   "name": "python",
   "nbconvert_exporter": "python",
   "pygments_lexer": "ipython2",
   "version": "2.7.8"
  }
 },
 "nbformat": 4,
 "nbformat_minor": 0
}
