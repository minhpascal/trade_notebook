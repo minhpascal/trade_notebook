{
 "cells": [
  {
   "cell_type": "code",
   "execution_count": null,
   "metadata": {
    "collapsed": false
   },
   "outputs": [],
   "source": [
    "#!/usr/bin/python\n",
    "# -*- coding: utf-8 -*-\n",
    "\n",
    "import urllib2\n",
    "import sys, httplib\n",
    "import os\n",
    "import zipfile  \n",
    "#%pwd"
   ]
  },
  {
   "cell_type": "code",
   "execution_count": null,
   "metadata": {
    "collapsed": true
   },
   "outputs": [],
   "source": [
    "config_parms = {\n",
    "    'output_everyday_stock_index_data_path' : 'E:/project/pychram/traderesp/base/input-csv/everyday-index-stock/',\n",
    "    'everyday_stock_index_data_url'   : 'http://yucezhe.com/api/download/product/latest?token=2556e43c18739&pdt_name=overview-push'\n",
    "}"
   ]
  },
  {
   "cell_type": "code",
   "execution_count": null,
   "metadata": {
    "collapsed": true
   },
   "outputs": [],
   "source": [
    "def down_file(url,outpath):\n",
    "    #\n",
    "    file_name = url.split('/')[-1]\n",
    "    file_name = file_name.split('?')[0]\n",
    "    print file_name\n",
    "    file_name = outpath + file_name\n",
    "    unzip_file_path = file_name.split('.zip')[0]\n",
    "    print file_name\n",
    "    print unzip_file_path\n",
    "    #\n",
    "    u = urllib2.urlopen(url)\n",
    "    f = open(file_name, 'wb')\n",
    "    meta = u.info()\n",
    "    file_size = int(meta.getheaders(\"Content-Length\")[0])\n",
    "    \n",
    "    file_size_dl = 0\n",
    "    block_sz = 8192\n",
    "    while True:\n",
    "        buffer = u.read(block_sz)\n",
    "        if not buffer:\n",
    "            break\n",
    "        #\n",
    "        file_size_dl += len(buffer)\n",
    "        f.write(buffer)\n",
    "    f.close()\n",
    "    \n",
    "    return file_name,unzip_file_path"
   ]
  },
  {
   "cell_type": "code",
   "execution_count": null,
   "metadata": {
    "collapsed": true
   },
   "outputs": [],
   "source": [
    "def unzip_dir(zipfilename, unzipdirname):  \n",
    "    fullzipfilename = os.path.abspath(zipfilename)  \n",
    "    fullunzipdirname = os.path.abspath(unzipdirname)  \n",
    "    print \"Start to unzip file %s to folder %s ...\" % (zipfilename, unzipdirname)  \n",
    "    #Check input ...  \n",
    "    if not os.path.exists(fullunzipdirname):  \n",
    "        os.mkdir(fullunzipdirname)                \n",
    "    #Start extract files ...  \n",
    "    srcZip = zipfile.ZipFile(fullzipfilename, \"r\")  \n",
    "    for eachfile in srcZip.namelist():  \n",
    "        print \"Unzip file %s ...\" % eachfile  \n",
    "        eachfilename = os.path.normpath(os.path.join(fullunzipdirname, eachfile))  \n",
    "        eachdirname = os.path.dirname(eachfilename)  \n",
    "        if not os.path.exists(eachdirname):  \n",
    "            os.makedirs(eachdirname)  \n",
    "        fd  = open(eachfilename, \"wb\")  \n",
    "        fd.write(srcZip.read(eachfile))  \n",
    "        fd.close()  \n",
    "    srcZip.close()  \n",
    "    print \"Unzip file succeed!\"  "
   ]
  },
  {
   "cell_type": "code",
   "execution_count": null,
   "metadata": {
    "collapsed": false
   },
   "outputs": [],
   "source": [
    "def get_url_data_and_unzip(url,out_path):\n",
    "    f = urllib2.urlopen(url)\n",
    "    cont = f.read()\n",
    "    print cont\n",
    "    if cont.find(\"No data.\") == 0:\n",
    "        print \"Now no data.\"\n",
    "    else:\n",
    "        print \"Now do download.\"\n",
    "        file_name,unzip_file_path = down_file(cont,out_path)\n",
    "        unzip_dir(file_name,unzip_file_path)"
   ]
  },
  {
   "cell_type": "code",
   "execution_count": null,
   "metadata": {
    "collapsed": false
   },
   "outputs": [],
   "source": [
    "def run(conf):\n",
    "    get_url_data_and_unzip(conf[\"everyday_stock_index_data_url\"],conf[\"output_everyday_stock_index_data_path\"])"
   ]
  },
  {
   "cell_type": "code",
   "execution_count": null,
   "metadata": {
    "collapsed": false
   },
   "outputs": [],
   "source": [
    "run(config_parms)"
   ]
  },
  {
   "cell_type": "code",
   "execution_count": null,
   "metadata": {
    "collapsed": true
   },
   "outputs": [],
   "source": []
  }
 ],
 "metadata": {
  "kernelspec": {
   "display_name": "Python 2",
   "language": "python",
   "name": "python2"
  },
  "language_info": {
   "codemirror_mode": {
    "name": "ipython",
    "version": 2
   },
   "file_extension": ".py",
   "mimetype": "text/x-python",
   "name": "python",
   "nbconvert_exporter": "python",
   "pygments_lexer": "ipython2",
   "version": "2.7.8"
  }
 },
 "nbformat": 4,
 "nbformat_minor": 0
}
